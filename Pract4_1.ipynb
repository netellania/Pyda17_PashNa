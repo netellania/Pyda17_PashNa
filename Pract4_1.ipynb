{
 "cells": [
  {
   "cell_type": "code",
   "execution_count": 5,
   "metadata": {},
   "outputs": [],
   "source": [
    "#Посчитайте значение первой и второй производной функции:\n",
    "#В точке x = 1.\n",
    "\n",
    "import matplotlib.pyplot as plt\n",
    "import numpy as np\n",
    "import pylab\n",
    "import sympy as sym\n",
    "\n",
    "from scipy.misc import derivative\n",
    "from scipy.misc import electrocardiogram\n",
    "from scipy.optimize import fmin, brute\n",
    "from scipy.signal import find_peaks\n",
    "from sympy import diff\n",
    "from sympy import *\n"
   ]
  },
  {
   "cell_type": "code",
   "execution_count": 47,
   "metadata": {},
   "outputs": [
    {
     "data": {
      "text/plain": [
       "<function _lambdifygenerated(x)>"
      ]
     },
     "execution_count": 47,
     "metadata": {},
     "output_type": "execute_result"
    }
   ],
   "source": [
    "##первая производная функции\n",
    "x =sym.Symbol('x')\n",
    "f = x**5 + 4*sym.sin(2*x)+sym.cos(3*x+3)\n",
    "f1 = lambdify(x, f)\n",
    "f1"
   ]
  },
  {
   "cell_type": "code",
   "execution_count": 44,
   "metadata": {},
   "outputs": [
    {
     "data": {
      "text/latex": [
       "$\\displaystyle 5 x^{4} - 3 \\sin{\\left(3 x + 3 \\right)} + 8 \\cos{\\left(2 x \\right)}$"
      ],
      "text/plain": [
       "5*x**4 - 3*sin(3*x + 3) + 8*cos(2*x)"
      ]
     },
     "execution_count": 44,
     "metadata": {},
     "output_type": "execute_result"
    }
   ],
   "source": [
    "#первая производная функции\n",
    "x =sym.Symbol('x')\n",
    "f = x**5 + 4*sym.sin(2*x)+sym.cos(3*x+3)\n",
    "derivative_f = f.diff(x)\n",
    "derivative_f"
   ]
  },
  {
   "cell_type": "code",
   "execution_count": 45,
   "metadata": {},
   "outputs": [
    {
     "name": "stdout",
     "output_type": "stream",
     "text": [
      "2.5090718022196383\n"
     ]
    }
   ],
   "source": [
    "# значение первой производной функции в т.x=1\n",
    "x=1\n",
    "f1=5*x**4-3*np.sin(3*x+3) + 8*np.cos(2*x)\n",
    "print(f1)"
   ]
  },
  {
   "cell_type": "code",
   "execution_count": 48,
   "metadata": {},
   "outputs": [
    {
     "data": {
      "text/plain": [
       "2.509071801881646"
      ]
     },
     "execution_count": 48,
     "metadata": {},
     "output_type": "execute_result"
    }
   ],
   "source": [
    "#Проверка\n",
    "def f(x):\n",
    "    return x**5 + 4*np.sin(2*x)+np.cos(3*x+3)\n",
    "derivative(f, 1.0, dx=1e-6)\n"
   ]
  },
  {
   "cell_type": "code",
   "execution_count": 50,
   "metadata": {},
   "outputs": [
    {
     "data": {
      "text/latex": [
       "$\\displaystyle 20 x^{3} - 16 \\sin{\\left(2 x \\right)} - 9 \\cos{\\left(3 x + 3 \\right)}$"
      ],
      "text/plain": [
       "20*x**3 - 16*sin(2*x) - 9*cos(3*x + 3)"
      ]
     },
     "execution_count": 50,
     "metadata": {},
     "output_type": "execute_result"
    }
   ],
   "source": [
    "#вторая производная функции\n",
    "x =sym.Symbol('x')\n",
    "f =5*x**4 - 3*sym.sin(3*x+3)+8*sym.cos(2*x)\n",
    "derivative_f = f.diff(x)\n",
    "derivative_f"
   ]
  },
  {
   "cell_type": "code",
   "execution_count": 51,
   "metadata": {},
   "outputs": [
    {
     "name": "stdout",
     "output_type": "stream",
     "text": [
      "-3.1902914090642014\n"
     ]
    }
   ],
   "source": [
    "# значение второй производной функции в т.x=1\n",
    "x=1\n",
    "f1=20*x**3-16*np.sin(2*x) - 9*np.cos(3*x+3)\n",
    "print(f1)"
   ]
  },
  {
   "cell_type": "code",
   "execution_count": 52,
   "metadata": {},
   "outputs": [
    {
     "data": {
      "text/latex": [
       "$\\displaystyle -3.19029140749549$"
      ],
      "text/plain": [
       "-3.19029140749549"
      ]
     },
     "execution_count": 52,
     "metadata": {},
     "output_type": "execute_result"
    }
   ],
   "source": [
    "#Проверка\n",
    "def f(x):\n",
    "    return 5*x**4 - 3*sym.sin(3*x+3)+8*sym.cos(2*x)\n",
    "derivative(f, 1.0, dx=1e-6)"
   ]
  },
  {
   "cell_type": "code",
   "execution_count": null,
   "metadata": {},
   "outputs": [],
   "source": []
  }
 ],
 "metadata": {
  "kernelspec": {
   "display_name": "Python 3",
   "language": "python",
   "name": "python3"
  },
  "language_info": {
   "codemirror_mode": {
    "name": "ipython",
    "version": 3
   },
   "file_extension": ".py",
   "mimetype": "text/x-python",
   "name": "python",
   "nbconvert_exporter": "python",
   "pygments_lexer": "ipython3",
   "version": "3.8.5"
  }
 },
 "nbformat": 4,
 "nbformat_minor": 4
}
