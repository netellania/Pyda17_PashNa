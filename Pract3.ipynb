{
 "cells": [
  {
   "cell_type": "code",
   "execution_count": 2,
   "metadata": {},
   "outputs": [],
   "source": [
    "import numpy as np"
   ]
  },
  {
   "cell_type": "code",
   "execution_count": 1,
   "metadata": {},
   "outputs": [],
   "source": [
    "#Задача 1\n",
    "#Придумайте матрицы, которые обладают следующими свойствами:\n"
   ]
  },
  {
   "cell_type": "code",
   "execution_count": 22,
   "metadata": {},
   "outputs": [
    {
     "name": "stdout",
     "output_type": "stream",
     "text": [
      "[[ 7  0  0]\n",
      " [ 0 -5  0]\n",
      " [ 0  0 -2]]\n"
     ]
    }
   ],
   "source": [
    "# Диагональная, ортоганальная матрица\n",
    "A = np.diag([7,-5,-2])\n",
    "print(A)\n"
   ]
  },
  {
   "cell_type": "code",
   "execution_count": 42,
   "metadata": {},
   "outputs": [
    {
     "name": "stdout",
     "output_type": "stream",
     "text": [
      "[[16  0  0]\n",
      " [ 0 16  0]\n",
      " [ 0  0 16]]\n"
     ]
    }
   ],
   "source": [
    "A = np.array([[4,0,0], [0,4,0],[0,0,-4]])\n",
    "AT = A.transpose()\n",
    "ORT=A.dot(AT)\n",
    "print(ORT)\n",
    "#вынесем коэффициент = 16 и получим единичную матрицу"
   ]
  },
  {
   "cell_type": "code",
   "execution_count": 112,
   "metadata": {},
   "outputs": [
    {
     "name": "stdout",
     "output_type": "stream",
     "text": [
      "[[0 0 0]\n",
      " [4 0 0]\n",
      " [7 8 0]]\n"
     ]
    }
   ],
   "source": [
    "# нижнетреугольная, ортогональная матрица\n",
    "A = np.tril([[1,2,3],[4,5,6],[7,8,9]], -1)\n",
    "print(A)\n",
    "#A = np.array([[1,0], [1,1]])\n",
    "#A\n"
   ]
  },
  {
   "cell_type": "code",
   "execution_count": 113,
   "metadata": {},
   "outputs": [
    {
     "data": {
      "text/plain": [
       "array([[0, 4, 7],\n",
       "       [0, 0, 8],\n",
       "       [0, 0, 0]])"
      ]
     },
     "execution_count": 113,
     "metadata": {},
     "output_type": "execute_result"
    }
   ],
   "source": [
    "AT = A.transpose()\n",
    "AT"
   ]
  },
  {
   "cell_type": "code",
   "execution_count": 126,
   "metadata": {},
   "outputs": [],
   "source": [
    "ORT=A.dot(AT)\n"
   ]
  },
  {
   "cell_type": "code",
   "execution_count": 120,
   "metadata": {},
   "outputs": [
    {
     "name": "stdout",
     "output_type": "stream",
     "text": [
      "[[1.00000000e+00 8.32667268e-17 0.00000000e+00]\n",
      " [8.32667268e-17 1.00000000e+00 1.38777878e-16]\n",
      " [0.00000000e+00 1.38777878e-16 1.00000000e+00]]\n"
     ]
    }
   ],
   "source": [
    "# нижнетреугольная, ортогональная матрица\n",
    "n, m = 3, 5\n",
    "H = np.random.rand(n, m)\n",
    "u, s, vh = np.linalg.svd(H, full_matrices=False)\n",
    "mat = u @ vh\n",
    "\n",
    "print(mat @ mat.T) # -> eye(n)"
   ]
  },
  {
   "cell_type": "code",
   "execution_count": 121,
   "metadata": {},
   "outputs": [
    {
     "name": "stdout",
     "output_type": "stream",
     "text": [
      "[[ 0.8327673  -0.43002171  0.11794573  0.2866199   0.15974289]\n",
      " [ 0.05619137  0.55709282  0.60653746  0.11497007  0.55261589]\n",
      " [ 0.          0.50791189 -0.29198185  0.718522   -0.35366682]]\n"
     ]
    }
   ],
   "source": [
    "A = np.triu(mat, -1)\n",
    "print(A)"
   ]
  },
  {
   "cell_type": "code",
   "execution_count": 118,
   "metadata": {},
   "outputs": [],
   "source": [
    "AT = A.transpose()\n",
    "E=A.dot(AT)"
   ]
  },
  {
   "cell_type": "code",
   "execution_count": 119,
   "metadata": {},
   "outputs": [
    {
     "name": "stdout",
     "output_type": "stream",
     "text": [
      "[[ 1.          0.         -0.08099408]\n",
      " [ 0.          1.          0.01403967]\n",
      " [-0.08099408  0.01403967  0.98934897]]\n"
     ]
    }
   ],
   "source": [
    "print(E)"
   ]
  },
  {
   "cell_type": "code",
   "execution_count": 122,
   "metadata": {},
   "outputs": [
    {
     "name": "stdout",
     "output_type": "stream",
     "text": [
      "[[ 1.00000000e+00  0.00000000e+00 -2.63677968e-16]\n",
      " [ 0.00000000e+00  1.00000000e+00  5.55111512e-17]\n",
      " [-2.63677968e-16  5.55111512e-17  1.00000000e+00]]\n"
     ]
    }
   ],
   "source": [
    "# верхнеугольная ортогональная матрица\n",
    "#создаем произвольную ортогональную матрицу.\n",
    "n, m = 3, 5\n",
    "H = np.random.rand(n, m)\n",
    "u, s, vh = np.linalg.svd(H, full_matrices=False)\n",
    "mat = u @ vh\n",
    "\n",
    "print(mat @ mat.T) # -> eye(n)"
   ]
  },
  {
   "cell_type": "code",
   "execution_count": 123,
   "metadata": {},
   "outputs": [
    {
     "name": "stdout",
     "output_type": "stream",
     "text": [
      "[[-0.16460706  0.32610048  0.19265234  0.75298865 -0.51230476]\n",
      " [ 0.         -0.068765    0.49341032  0.38488839  0.75975039]\n",
      " [ 0.          0.          0.14664042 -0.0097153   0.13298998]]\n"
     ]
    }
   ],
   "source": [
    "A = np.triu(mat, 0)\n",
    "print(A)"
   ]
  },
  {
   "cell_type": "code",
   "execution_count": 125,
   "metadata": {},
   "outputs": [
    {
     "name": "stdout",
     "output_type": "stream",
     "text": [
      "[[ 1.         -0.0267748  -0.04719629]\n",
      " [-0.0267748   0.9735421   0.16965378]\n",
      " [-0.04719629  0.16965378  0.03928414]]\n"
     ]
    }
   ],
   "source": [
    "AT = A.transpose()\n",
    "E=A.dot(AT)\n",
    "print(E)"
   ]
  },
  {
   "cell_type": "code",
   "execution_count": 24,
   "metadata": {},
   "outputs": [
    {
     "data": {
      "text/plain": [
       "array([[1, 2],\n",
       "       [1, 3]])"
      ]
     },
     "execution_count": 24,
     "metadata": {},
     "output_type": "execute_result"
    }
   ],
   "source": [
    "# матрица, у которой определитель = 1, и все элементы не равны 0\n",
    "A = np.array([[1,2], [1,3]])\n",
    "A"
   ]
  },
  {
   "cell_type": "code",
   "execution_count": 27,
   "metadata": {},
   "outputs": [
    {
     "name": "stdout",
     "output_type": "stream",
     "text": [
      "1.0\n"
     ]
    }
   ],
   "source": [
    "det = np.linalg.det(A)\n",
    "print(det)"
   ]
  },
  {
   "cell_type": "code",
   "execution_count": 33,
   "metadata": {},
   "outputs": [
    {
     "name": "stdout",
     "output_type": "stream",
     "text": [
      "1.0\n"
     ]
    }
   ],
   "source": [
    "# матрица (3x3), у которой определитель = 1\n",
    "A = [\n",
    "[2, 0, 1],\n",
    "[1, -1, 0],\n",
    "[0, 3, 1]\n",
    "]\n",
    "det = np.linalg.det(A)\n",
    "print(det)"
   ]
  },
  {
   "cell_type": "code",
   "execution_count": 99,
   "metadata": {},
   "outputs": [
    {
     "name": "stdout",
     "output_type": "stream",
     "text": [
      "[[2 2]\n",
      " [1 3]]\n"
     ]
    }
   ],
   "source": [
    "# Найдите собственные значения и собственные вектора матриц:\n",
    "m = np.array([[2, 2],\n",
    "              [1, 3]])\n",
    "print(m)"
   ]
  },
  {
   "cell_type": "code",
   "execution_count": 100,
   "metadata": {},
   "outputs": [
    {
     "name": "stdout",
     "output_type": "stream",
     "text": [
      "[[2 2]\n",
      " [1 3]]\n"
     ]
    }
   ],
   "source": [
    "A = np.array([[2, 2], [1, 3]])\n",
    "w, v = np.linalg.eig(A)\n",
    "print(A)"
   ]
  },
  {
   "cell_type": "code",
   "execution_count": 101,
   "metadata": {},
   "outputs": [
    {
     "name": "stdout",
     "output_type": "stream",
     "text": [
      "Собственное значение 1.0\n",
      "соответствующий ему собственный вектор [-0.89442719  0.4472136 ]\n",
      "Собственное значение 4.0\n",
      "соответствующий ему собственный вектор [-0.70710678 -0.70710678]\n"
     ]
    }
   ],
   "source": [
    "for i in range(len(w)):\n",
    "    print(\"Собственное значение \" + str(w[i]))\n",
    "    print(\"соответствующий ему собственный вектор \" + str(v[:,i]))"
   ]
  },
  {
   "cell_type": "code",
   "execution_count": null,
   "metadata": {},
   "outputs": [],
   "source": []
  }
 ],
 "metadata": {
  "kernelspec": {
   "display_name": "Python 3",
   "language": "python",
   "name": "python3"
  },
  "language_info": {
   "codemirror_mode": {
    "name": "ipython",
    "version": 3
   },
   "file_extension": ".py",
   "mimetype": "text/x-python",
   "name": "python",
   "nbconvert_exporter": "python",
   "pygments_lexer": "ipython3",
   "version": "3.8.5"
  }
 },
 "nbformat": 4,
 "nbformat_minor": 4
}
