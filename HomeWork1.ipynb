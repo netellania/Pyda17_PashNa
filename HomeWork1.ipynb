{
 "cells": [
  {
   "cell_type": "code",
   "execution_count": 8,
   "metadata": {},
   "outputs": [
    {
     "name": "stdout",
     "output_type": "stream",
     "text": [
      "Фраза 1 длиннее фразы 2\n"
     ]
    }
   ],
   "source": [
    "# Задание 1.1 Сравнение строк\n",
    "phrase_1 = 'Насколько проще было бы писать программы, если бы не заказчики'\n",
    "phrase_2 = '640Кб должно хватить для любых задач. Билл Гейтс (по легенде)'\n",
    "if phrase_1>phrase_2:\n",
    "               print('Фраза 1 длиннее фразы 2')\n",
    "\n",
    "\n"
   ]
  },
  {
   "cell_type": "code",
   "execution_count": 11,
   "metadata": {},
   "outputs": [
    {
     "name": "stdout",
     "output_type": "stream",
     "text": [
      "Фраза 2 длиннее фразы 1\n"
     ]
    }
   ],
   "source": [
    "# Задание 1.2\n",
    "phrase_1 = '640Кб должно хватить для любых задач. Билл Гейтс (по легенде)'\n",
    "phrase_2 = 'Насколько проще было бы писать программы, если бы не заказчики'\n",
    "if phrase_1<phrase_2:\n",
    "               print('Фраза 2 длиннее фразы 1')\n",
    "        "
   ]
  },
  {
   "cell_type": "code",
   "execution_count": 12,
   "metadata": {},
   "outputs": [
    {
     "name": "stdout",
     "output_type": "stream",
     "text": [
      "Фразы равной длины\n"
     ]
    }
   ],
   "source": [
    "# Задание 1.3\n",
    "phrase_1 = 'Насколько проще было бы писать программы, если бы не заказчики'\n",
    "phrase_2 = 'Насколько проще было бы писать программы, если бы не заказчики'\n",
    "if phrase_1==phrase_2:\n",
    "               print('Фразы равной длины')\n"
   ]
  },
  {
   "cell_type": "code",
   "execution_count": 18,
   "metadata": {},
   "outputs": [
    {
     "name": "stdout",
     "output_type": "stream",
     "text": [
      "2019\n",
      "2019 Обычный год\n"
     ]
    }
   ],
   "source": [
    "# Задание 2 (вариант 1) Определение высокосного года \n",
    "#Год будет високосным, если его номер кратен 4, но при этом не кратен 100\n",
    "year = int(input())\n",
    "if (year%4==0 and year%100!= 0):\n",
    "        print(year, 'Высокосный год')\n",
    "else:\n",
    "        print(year, 'Обычный год')"
   ]
  },
  {
   "cell_type": "code",
   "execution_count": 50,
   "metadata": {},
   "outputs": [
    {
     "name": "stdout",
     "output_type": "stream",
     "text": [
      "2020 Высокосный год\n"
     ]
    }
   ],
   "source": [
    "# Задание 2 (вариант 2) Определение высокосного года\n",
    "year =2020\n",
    "if year==2020:\n",
    "        print(year, 'Высокосный год')\n",
    "elif year==2019:\n",
    "        print(year, 'Обычный год')"
   ]
  },
  {
   "cell_type": "code",
   "execution_count": 54,
   "metadata": {},
   "outputs": [
    {
     "name": "stdout",
     "output_type": "stream",
     "text": [
      "Введите день рождения:30\n",
      "Введите месяц рождения:Август\n",
      "Знак зодиака:Дева\n"
     ]
    }
   ],
   "source": [
    "# Задание 3 Определение знака зодиака\n",
    "day_births=int(input(\"Введите день рождения:\"))\n",
    "month_births=input(\"Введите месяц рождения:\")\n",
    "\n",
    "if (day_births>=21 and day_births<=31 and month_births=='Январь') or( month_births=='Февраль' and day_births>=1 and day_births<=19):\n",
    "    print('Знак зодиака:Водолей')\n",
    "elif (day_births>=20 and day_births<=29 and month_births=='Февраль') or( month_births=='Март' and day_births>=1 and day_births<=20):\n",
    "    print('Знак зодиака:Рыбы')      \n",
    "elif (day_births>=21 and day_births<=31 and month_births=='Март') or( month_births=='Апрель' and day_births>=1 and day_births<=20):\n",
    "    print('Знак зодиака:Овен')    \n",
    "elif (day_births>=21 and day_births<=30 and month_births=='Апрель') or( month_births=='Май' and day_births>=1 and day_births<=21):\n",
    "    print('Знак зодиака:Телец')  \n",
    "elif (day_births>=22 and day_births<=31 and month_births=='Май') or( month_births=='Июнь' and day_births>=1 and day_births<=21):\n",
    "    print('Знак зодиака:Близнецы') \n",
    "elif (day_births>=22 and day_births<=30 and month_births=='Июнь') or( month_births=='Июль' and day_births>=1 and day_births<=22):\n",
    "    print('Знак зодиака:Рак')   \n",
    "elif (day_births>=23 and day_births<=31 and month_births=='Июль') or( month_births=='Август' and day_births>=1 and day_births<=23):\n",
    "    print('Знак зодиака:Лев') \n",
    "elif (day_births>=24 and day_births<=31 and month_births=='Август') or( month_births=='Сентябрь' and day_births>=1 and day_births<=23):\n",
    "    print('Знак зодиака:Дева')\n",
    "elif (day_births>=24 and day_births<=30 and month_births=='Сентябрь') or( month_births=='Октябрь' and day_births>=1 and day_births<=23):\n",
    "    print('Знак зодиака:Весы')\n",
    "elif (day_births>=24 and day_births<=31 and month_births=='Октябрь') or( month_births=='Ноябрь' and day_births>=1 and day_births<=22):\n",
    "    print('Знак зодиака:Скорпион')  \n",
    "elif (day_births>=23 and day_births<=30 and month_births=='Ноябрь') or( month_births=='Декабрь' and day_births>=1 and day_births<=22):\n",
    "    print('Знак зодиака:Стрелец') \n",
    "elif (day_births>=23 and day_births<=31 and month_births=='Декабрь') or( month_births=='Январь' and day_births>=1 and day_births<=20):\n",
    "    print('Знак зодиака:Козерог')     \n",
    "    "
   ]
  },
  {
   "cell_type": "code",
   "execution_count": 59,
   "metadata": {},
   "outputs": [
    {
     "name": "stdout",
     "output_type": "stream",
     "text": [
      "Ширина,см:10\n",
      "Длина,см:205\n",
      "Высота,см:5\n",
      "Упаковка для лыж\n"
     ]
    }
   ],
   "source": [
    "# Задание 4 Подбор упаковки\n",
    "\n",
    "width=int(input('Ширина,см:'))\n",
    "length=int(input('Длина,см:'))\n",
    "height=int(input('Высота,см:'))\n",
    "if (width<15 and length<15 and height<15):\n",
    "    print('Коробка №1')\n",
    "elif ((width>15 and width<50) or (length>15 and length<50) or (height>15 and height<50)):\n",
    "    print('Коробка №2') \n",
    "elif length>200:\n",
    "    print('Упаковка для лыж')  \n",
    "else:\n",
    "    print('Стандартная коробка №3')\n",
    "      \n"
   ]
  },
  {
   "cell_type": "code",
   "execution_count": 63,
   "metadata": {},
   "outputs": [
    {
     "name": "stdout",
     "output_type": "stream",
     "text": [
      "Номер проездного билета123321\n",
      "Счастливый\n"
     ]
    }
   ],
   "source": [
    "# Задание 5 (необязательное) Счаствый билет\n",
    "number=int(input('Номер проездного билета'))\n",
    "a1 = int(number/100000)\n",
    "a2 = int((float(number/100000) - a1)* 10)\n",
    "a3 = int((float(number/10000) - int(number/10000))*10)\n",
    "a4 = int((float(number/1000) - int(number/1000))*10)\n",
    "a5 = int((float(number/100) - int(number/100))*10)\n",
    "a6 = int((float(number/10) - int(number/10))*10)\n",
    "if (a1 + a2 + a3) == (a4 + a5 + a6):\n",
    "    print('Счастливый')\n",
    "else:\n",
    "    print('Обычный')    \n"
   ]
  },
  {
   "cell_type": "code",
   "execution_count": null,
   "metadata": {},
   "outputs": [],
   "source": []
  }
 ],
 "metadata": {
  "kernelspec": {
   "display_name": "Python 3",
   "language": "python",
   "name": "python3"
  },
  "language_info": {
   "codemirror_mode": {
    "name": "ipython",
    "version": 3
   },
   "file_extension": ".py",
   "mimetype": "text/x-python",
   "name": "python",
   "nbconvert_exporter": "python",
   "pygments_lexer": "ipython3",
   "version": "3.8.5"
  }
 },
 "nbformat": 4,
 "nbformat_minor": 4
}
