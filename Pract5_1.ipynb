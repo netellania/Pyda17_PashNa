{
 "cells": [
  {
   "cell_type": "code",
   "execution_count": 10,
   "metadata": {},
   "outputs": [],
   "source": [
    "#Посчитайте частные производные функций\n",
    "\n",
    "import numpy as np\n",
    "import sympy as sym\n",
    "\n",
    "from scipy.optimize import approx_fprime\n",
    "from sympy import diff\n",
    "from sympy import *\n"
   ]
  },
  {
   "cell_type": "code",
   "execution_count": 11,
   "metadata": {},
   "outputs": [],
   "source": [
    "x = np.array([1, 2], dtype=np.float)\n",
    "c1, c2, c3 = (2,7,1)"
   ]
  },
  {
   "cell_type": "code",
   "execution_count": 12,
   "metadata": {},
   "outputs": [
    {
     "data": {
      "text/latex": [
       "$\\displaystyle 4 x y^{3} + y^{2} - \\frac{1}{x^{2}}$"
      ],
      "text/plain": [
       "4*x*y**3 + y**2 - 1/x**2"
      ]
     },
     "execution_count": 12,
     "metadata": {},
     "output_type": "execute_result"
    }
   ],
   "source": [
    "# Задача 1\n",
    "# Частная производная по x функции f(x,y)=2x^2y^3 + 1/x + y^2x + 7\n",
    "x,y = sym.symbols('x  y')\n",
    "f = 2*x**2*y**3 + 1/x+ y**2*x+7\n",
    "derivative_f = f.diff(x)\n",
    "derivative_f\n"
   ]
  },
  {
   "cell_type": "code",
   "execution_count": 13,
   "metadata": {},
   "outputs": [
    {
     "data": {
      "text/latex": [
       "$\\displaystyle 6 x^{2} y^{2} + 2 x y$"
      ],
      "text/plain": [
       "6*x**2*y**2 + 2*x*y"
      ]
     },
     "execution_count": 13,
     "metadata": {},
     "output_type": "execute_result"
    }
   ],
   "source": [
    "# Задача 1\n",
    "# Частная производная по y функции f(x,y)=2x^2y^3 + 1/x + y^2x + 7\n",
    "x,y = sym.symbols('x  y')\n",
    "f = 2*x**2*y**3 + 1/x+ y**2*x+7\n",
    "derivative_f = f.diff(y)\n",
    "derivative_f"
   ]
  },
  {
   "cell_type": "code",
   "execution_count": 21,
   "metadata": {},
   "outputs": [],
   "source": [
    "#Задача 1\n",
    "#Градиент\n",
    "def func(x, c1, c2, c3):\n",
    "    \"Coordinate vector `x` should be an array of size two.\"\n",
    "    return c1 * x[0]*x[1]**3 - c3/x[0]**2 + c2*x[0]*x[1]**2\n"
   ]
  },
  {
   "cell_type": "code",
   "execution_count": 22,
   "metadata": {},
   "outputs": [
    {
     "data": {
      "text/plain": [
       "array([16.9999997 ,  8.00000012])"
      ]
     },
     "execution_count": 22,
     "metadata": {},
     "output_type": "execute_result"
    }
   ],
   "source": [
    "x = np.ones(2)\n",
    "c1, c2, c3 = (2,1,7)\n",
    "eps = np.sqrt(np.finfo(float).eps)\n",
    "approx_fprime(x, func, [eps, eps], c1, c2, c3)"
   ]
  },
  {
   "cell_type": "code",
   "execution_count": 15,
   "metadata": {},
   "outputs": [
    {
     "data": {
      "text/latex": [
       "$\\displaystyle 2 x y^{2} - 2 x \\sin{\\left(x^{2} \\right)} - y \\cos{\\left(x y \\right)}$"
      ],
      "text/plain": [
       "2*x*y**2 - 2*x*sin(x**2) - y*cos(x*y)"
      ]
     },
     "execution_count": 15,
     "metadata": {},
     "output_type": "execute_result"
    }
   ],
   "source": [
    "# Задача 2\n",
    "# Частная производная по x функции \n",
    "x,y = sym.symbols('x  y')\n",
    "f = x**2*y**2 - sym.sin(x*y)+ sym.cos(x**2)+6*y\n",
    "derivative_f = f.diff(x)\n",
    "derivative_f\n"
   ]
  },
  {
   "cell_type": "code",
   "execution_count": 16,
   "metadata": {},
   "outputs": [
    {
     "data": {
      "text/latex": [
       "$\\displaystyle 2 x^{2} y - x \\cos{\\left(x y \\right)} + 6$"
      ],
      "text/plain": [
       "2*x**2*y - x*cos(x*y) + 6"
      ]
     },
     "execution_count": 16,
     "metadata": {},
     "output_type": "execute_result"
    }
   ],
   "source": [
    "# Задача 2\n",
    "# Частная производная по y функции\n",
    "x,y = sym.symbols('x  y')\n",
    "f = x**2*y**2 - sym.sin(x*y)+ sym.cos(x**2)+6*y\n",
    "derivative_f = f.diff(y)\n",
    "derivative_f"
   ]
  },
  {
   "cell_type": "code",
   "execution_count": 35,
   "metadata": {},
   "outputs": [
    {
     "data": {
      "text/plain": [
       "array([ 5.99999994, 10.00000012])"
      ]
     },
     "execution_count": 35,
     "metadata": {},
     "output_type": "execute_result"
    }
   ],
   "source": [
    "x = np.ones(2)\n",
    "c1, c2, c3 = (2,2,1)\n",
    "eps = np.sqrt(np.finfo(float).eps)\n",
    "approx_fprime(x, func, [eps, eps], c1, c2, c3)"
   ]
  },
  {
   "cell_type": "code",
   "execution_count": null,
   "metadata": {},
   "outputs": [],
   "source": []
  }
 ],
 "metadata": {
  "kernelspec": {
   "display_name": "Python 3",
   "language": "python",
   "name": "python3"
  },
  "language_info": {
   "codemirror_mode": {
    "name": "ipython",
    "version": 3
   },
   "file_extension": ".py",
   "mimetype": "text/x-python",
   "name": "python",
   "nbconvert_exporter": "python",
   "pygments_lexer": "ipython3",
   "version": "3.8.5"
  }
 },
 "nbformat": 4,
 "nbformat_minor": 4
}
