{
 "cells": [
  {
   "cell_type": "code",
   "execution_count": 1,
   "metadata": {},
   "outputs": [],
   "source": [
    "# Задание 1\n",
    "# Получить интуицию, на что влияют параметры распределений.\n",
    "# Построить по 5 функций плотностей с разными параметрами\n",
    "# для каждого распределения: \n",
    "# 1 нормальное,\n",
    "# 2 экспоненциальное,\n",
    "# 3 Стьюдента на одном графике.\n",
    "\n",
    "# Комментарий:\n",
    "#Параметры распределений влияют на математическое ожидание и плотность распредедения.\n",
    "# Относительно графика наблюдается сдвиги или вытягивание графика \n",
    "\n",
    "\n"
   ]
  },
  {
   "cell_type": "code",
   "execution_count": 23,
   "metadata": {},
   "outputs": [],
   "source": [
    "import pandas as pd\n",
    "import numpy as np\n",
    "import matplotlib.pyplot as plt\n",
    "import scipy.stats as sts\n",
    "\n",
    "%matplotlib inline"
   ]
  },
  {
   "cell_type": "code",
   "execution_count": 24,
   "metadata": {},
   "outputs": [
    {
     "data": {
      "text/plain": [
       "array([2.08656886, 2.21455875, 2.02027556, 1.33827933, 1.97422461,\n",
       "       2.34751293, 2.36211326, 1.78405812, 2.52475032, 3.04726062])"
      ]
     },
     "execution_count": 24,
     "metadata": {},
     "output_type": "execute_result"
    }
   ],
   "source": [
    "# Нормальное раcпределение 1\n",
    "mu=2.0\n",
    "sigma=0.5\n",
    "# зададим нормально распределенную случайную величину\n",
    "norm_rv1=sts.norm(loc=mu, scale=sigma)\n",
    "# генерация 10 значений\n",
    "norm_rv1.rvs(size=10)\n"
   ]
  },
  {
   "cell_type": "code",
   "execution_count": 25,
   "metadata": {},
   "outputs": [
    {
     "data": {
      "text/plain": [
       "0.9772498680518208"
      ]
     },
     "execution_count": 25,
     "metadata": {},
     "output_type": "execute_result"
    }
   ],
   "source": [
    "norm_rv1.cdf(3)"
   ]
  },
  {
   "cell_type": "code",
   "execution_count": 183,
   "metadata": {},
   "outputs": [],
   "source": [
    "# Нормальное раcпределение 2\n",
    "a=np.random.normal(loc = 0.0, scale = 1.0, size = None)\n"
   ]
  },
  {
   "cell_type": "code",
   "execution_count": 184,
   "metadata": {},
   "outputs": [
    {
     "data": {
      "text/plain": [
       "array([ 0.48876987, -0.3289413 ,  0.54645648, -0.06324398,  1.37461472,\n",
       "        0.85905482,  0.13917405,  0.82687551,  0.47145576,  0.58966702])"
      ]
     },
     "execution_count": 184,
     "metadata": {},
     "output_type": "execute_result"
    }
   ],
   "source": [
    "mu=0.5\n",
    "sigma=0.5\n",
    "sz=10\n",
    "# зададим нормально распределенную случайную величину\n",
    "norm_rv2=sts.norm(loc=mu, scale=sigma)\n",
    "# генерация 10 значений\n",
    "norm_rv2.rvs(size=10)"
   ]
  },
  {
   "cell_type": "code",
   "execution_count": 185,
   "metadata": {},
   "outputs": [
    {
     "data": {
      "text/plain": [
       "0.9999997133484281"
      ]
     },
     "execution_count": 185,
     "metadata": {},
     "output_type": "execute_result"
    }
   ],
   "source": [
    "norm_rv2.cdf(3)"
   ]
  },
  {
   "cell_type": "code",
   "execution_count": 186,
   "metadata": {},
   "outputs": [
    {
     "data": {
      "text/plain": [
       "array([6.01934773, 5.21608254, 5.63865426, 5.96453101, 5.46029613,\n",
       "       3.3479945 , 4.55082961, 7.29698019, 5.53911577, 3.68578113])"
      ]
     },
     "execution_count": 186,
     "metadata": {},
     "output_type": "execute_result"
    }
   ],
   "source": [
    "# Нормальное раcпределение 3\n",
    "mu=5.0\n",
    "sigma=1.0\n",
    "sz=10\n",
    "# зададим нормально распределенную случайную величину\n",
    "norm_rv3=sts.norm(loc=mu, scale=sigma)\n",
    "# генерация 10 значений\n",
    "norm_rv3.rvs(size=10)"
   ]
  },
  {
   "cell_type": "code",
   "execution_count": 187,
   "metadata": {},
   "outputs": [
    {
     "data": {
      "text/plain": [
       "0.022750131948179195"
      ]
     },
     "execution_count": 187,
     "metadata": {},
     "output_type": "execute_result"
    }
   ],
   "source": [
    "norm_rv3.cdf(3)"
   ]
  },
  {
   "cell_type": "code",
   "execution_count": 188,
   "metadata": {},
   "outputs": [
    {
     "data": {
      "text/plain": [
       "array([ 7.47349753, -1.30994431,  8.08339074, -1.14815404, 12.94185628,\n",
       "        3.04398545, -2.18817757,  1.77475385,  0.86204599,  6.62886591])"
      ]
     },
     "execution_count": 188,
     "metadata": {},
     "output_type": "execute_result"
    }
   ],
   "source": [
    "# Нормальное раcпределение 4\n",
    "mu=5.5\n",
    "sigma=4.0\n",
    "sz=10\n",
    "# зададим нормально распределенную случайную величину\n",
    "norm_rv4=sts.norm(loc=mu, scale=sigma)\n",
    "# генерация 10 значений\n",
    "norm_rv4.rvs(size=10)"
   ]
  },
  {
   "cell_type": "code",
   "execution_count": 189,
   "metadata": {},
   "outputs": [
    {
     "data": {
      "text/plain": [
       "0.26598552904870054"
      ]
     },
     "execution_count": 189,
     "metadata": {},
     "output_type": "execute_result"
    }
   ],
   "source": [
    "norm_rv4.cdf(3)"
   ]
  },
  {
   "cell_type": "code",
   "execution_count": 190,
   "metadata": {},
   "outputs": [
    {
     "data": {
      "text/plain": [
       "array([ 0.77668247,  0.6444308 ,  0.47660624, -0.27883177, -0.29679772,\n",
       "        0.05046921,  0.5459545 ,  0.31912313,  1.11426403,  1.2095669 ])"
      ]
     },
     "execution_count": 190,
     "metadata": {},
     "output_type": "execute_result"
    }
   ],
   "source": [
    "# Нормальное раcпределение 5\n",
    "mu=0.2\n",
    "sigma=0.5\n",
    "sz=50\n",
    "# зададим нормально распределенную случайную величину\n",
    "norm_rv5=sts.norm(loc=mu, scale=sigma)\n",
    "# генерация 10 значений\n",
    "norm_rv5.rvs(size=10)"
   ]
  },
  {
   "cell_type": "code",
   "execution_count": 191,
   "metadata": {},
   "outputs": [
    {
     "data": {
      "text/plain": [
       "0.9999999892824097"
      ]
     },
     "execution_count": 191,
     "metadata": {},
     "output_type": "execute_result"
    }
   ],
   "source": [
    "norm_rv5.cdf(3)"
   ]
  },
  {
   "cell_type": "code",
   "execution_count": 192,
   "metadata": {},
   "outputs": [
    {
     "data": {
      "image/png": "[encoded data removed]",
      "text/plain": [
       "<Figure size 432x288 with 1 Axes>"
      ]
     },
     "metadata": {
      "needs_background": "light"
     },
     "output_type": "display_data"
    }
   ],
   "source": [
    "x1=np.linspace(-2,4,100)\n",
    "x2=np.linspace(-2,4,100)\n",
    "x3=np.linspace(-2,4,100)\n",
    "x4=np.linspace(-2,4,100)\n",
    "x5=np.linspace(-2,4,100)\n",
    "\n",
    "cdf1=norm_rv1.cdf(x1)\n",
    "cdf2=norm_rv2.cdf(x2)\n",
    "cdf3=norm_rv3.cdf(x3)\n",
    "cdf4=norm_rv4.cdf(x4)\n",
    "pdf5=norm_rv5.pdf(x5)\n",
    "\n",
    "plt.plot(x1,cdf1)\n",
    "plt.plot(x2,cdf2)\n",
    "plt.plot(x3,cdf3)\n",
    "plt.plot(x4,cdf4)\n",
    "plt.plot(x5,pdf5)\n",
    "\n",
    "plt.ylabel('$F(x)$')\n",
    "plt.xlabel('$x$')\n",
    "\n",
    "plt.show()"
   ]
  },
  {
   "cell_type": "code",
   "execution_count": 118,
   "metadata": {},
   "outputs": [
    {
     "data": {
      "text/plain": [
       "array([0.87151602, 0.5663383 , 1.50061788, 0.2814765 , 0.20004445,\n",
       "       0.30689216, 0.98955007, 0.66816068, 0.2969257 , 0.79249811])"
      ]
     },
     "execution_count": 118,
     "metadata": {},
     "output_type": "execute_result"
    }
   ],
   "source": [
    "# экспоненциальное распределение 1\n",
    "lam1=0.2\n",
    "expon_rv1=sts.expon(lam1)\n",
    "expon_rv1.rvs(10)"
   ]
  },
  {
   "cell_type": "code",
   "execution_count": 119,
   "metadata": {},
   "outputs": [
    {
     "data": {
      "text/plain": [
       "array([3.25102282, 5.10949052, 2.01126727, 2.14290542, 2.51787111,\n",
       "       3.32334359, 2.21979186, 2.07599912, 2.4611711 , 2.95725214])"
      ]
     },
     "execution_count": 119,
     "metadata": {},
     "output_type": "execute_result"
    }
   ],
   "source": [
    "# экспоненциальное распределение 2\n",
    "lam2=2\n",
    "expon_rv2=sts.expon(lam2)\n",
    "expon_rv2.rvs(10)"
   ]
  },
  {
   "cell_type": "code",
   "execution_count": 120,
   "metadata": {},
   "outputs": [
    {
     "data": {
      "text/plain": [
       "array([-1.87585963, -0.87154616, -1.28205075, -1.21601142,  0.15306796,\n",
       "       -0.08820303, -1.72736669, -1.92585958, -1.4466571 ,  0.5046514 ])"
      ]
     },
     "execution_count": 120,
     "metadata": {},
     "output_type": "execute_result"
    }
   ],
   "source": [
    "# экспоненциальное распределение 3\n",
    "lam3=-2\n",
    "expon_rv3=sts.expon(lam3)\n",
    "expon_rv3.rvs(10)"
   ]
  },
  {
   "cell_type": "code",
   "execution_count": 121,
   "metadata": {},
   "outputs": [
    {
     "data": {
      "text/plain": [
       "array([1.07291667, 1.91898854, 6.02831747, 0.52329706, 2.1288382 ,\n",
       "       5.11338182, 1.88952109, 0.67308845, 0.53978441, 1.35486803])"
      ]
     },
     "execution_count": 121,
     "metadata": {},
     "output_type": "execute_result"
    }
   ],
   "source": [
    "# экспоненциальное распределение 4\n",
    "lam4=0.5\n",
    "expon_rv4=sts.expon(lam4)\n",
    "expon_rv4.rvs(10)"
   ]
  },
  {
   "cell_type": "code",
   "execution_count": 122,
   "metadata": {},
   "outputs": [
    {
     "data": {
      "text/plain": [
       "array([1.90959686, 1.70231464, 1.77932744, 1.66054474, 2.33204874,\n",
       "       1.734584  , 3.2194642 , 1.57392235, 1.87718142, 2.8251651 ])"
      ]
     },
     "execution_count": 122,
     "metadata": {},
     "output_type": "execute_result"
    }
   ],
   "source": [
    "# экспоненциальное распределение 5\n",
    "lam5=1.5\n",
    "expon_rv5=sts.expon(lam5)\n",
    "expon_rv5.rvs(10)"
   ]
  },
  {
   "cell_type": "code",
   "execution_count": 144,
   "metadata": {},
   "outputs": [
    {
     "data": {
      "image/png": "[encoded data removed]",
      "text/plain": [
       "<Figure size 432x288 with 1 Axes>"
      ]
     },
     "metadata": {
      "needs_background": "light"
     },
     "output_type": "display_data"
    }
   ],
   "source": [
    "x1=np.linspace(0,3,200)\n",
    "x2=np.linspace(0,3,200)\n",
    "x3=np.linspace(0,3,200)\n",
    "x4=np.linspace(0,3,200)\n",
    "x5=np.linspace(0,3,200)\n",
    "\n",
    "cdf1=expon_rv1.cdf(x1)\n",
    "cdf2=expon_rv2.cdf(x2)\n",
    "cdf3=expon_rv3.cdf(x3)\n",
    "cdf4=expon_rv4.cdf(x4)\n",
    "pdf5=expon_rv5.pdf(x5)\n",
    "\n",
    "plt.plot(x1,cdf1)\n",
    "plt.plot(x2,cdf2)\n",
    "plt.plot(x3,cdf3)\n",
    "plt.plot(x4,cdf4)\n",
    "plt.plot(x5,pdf5)\n",
    "\n",
    "plt.ylabel('$F(x)$')\n",
    "plt.xlabel('$x$')\n",
    "\n",
    "plt.show()"
   ]
  },
  {
   "cell_type": "code",
   "execution_count": 145,
   "metadata": {},
   "outputs": [
    {
     "data": {
      "text/plain": [
       "array([-2.59566650e+00,  5.63581020e-01, -7.60166387e-01,  4.00829238e-01,\n",
       "        7.50570261e-01, -8.35768948e-02, -1.20998152e+00, -1.68201843e+00,\n",
       "        1.56486669e+00, -1.13771636e+00, -4.03783938e-01, -2.39811947e-03])"
      ]
     },
     "execution_count": 145,
     "metadata": {},
     "output_type": "execute_result"
    }
   ],
   "source": [
    "# Распределение Стьюдента 1\n",
    "n=10\n",
    "t_rv1=sts.t(n)\n",
    "t_rv1.rvs(12)"
   ]
  },
  {
   "cell_type": "code",
   "execution_count": 146,
   "metadata": {},
   "outputs": [
    {
     "data": {
      "text/plain": [
       "array([-7.21461039e+00,  9.81065653e+02,  2.57844543e-01,  1.03551905e+00,\n",
       "        6.34608450e-01, -1.76867895e+01,  2.83420776e+02,  1.43672521e+11,\n",
       "       -2.32836114e+02, -5.38202462e+00, -2.03154558e+06, -8.73787354e-01])"
      ]
     },
     "execution_count": 146,
     "metadata": {},
     "output_type": "execute_result"
    }
   ],
   "source": [
    "# Распределение Стьюдента 2\n",
    "n=0.15\n",
    "t_rv2=sts.t(n)\n",
    "t_rv2.rvs(12)"
   ]
  },
  {
   "cell_type": "code",
   "execution_count": 149,
   "metadata": {},
   "outputs": [
    {
     "data": {
      "text/plain": [
       "array([-1.38550528,  0.33411951, -1.79524465, -1.70983156, -1.65917787,\n",
       "       -0.67644956, -0.98218346, -0.04024993,  1.16919213,  0.84385539,\n",
       "       -0.38805719, -1.82978929,  0.5049243 , -0.10349516,  0.38028206,\n",
       "        1.42250432, -0.32059822,  1.47935659,  0.54251217,  0.57736579,\n",
       "       -0.94885007, -0.8454599 ,  0.72531778,  0.14227941,  0.21029135,\n",
       "        0.6600969 , -1.0937974 ,  3.37212829, -1.46845167,  0.1087056 ])"
      ]
     },
     "execution_count": 149,
     "metadata": {},
     "output_type": "execute_result"
    }
   ],
   "source": [
    "# Распределение Стьюдента 3\n",
    "n=8\n",
    "t_rv3=sts.t(n)\n",
    "t_rv3.rvs(30)"
   ]
  },
  {
   "cell_type": "code",
   "execution_count": 174,
   "metadata": {},
   "outputs": [
    {
     "data": {
      "text/plain": [
       "array([ 0.42610948, -1.04890855,  0.53893869, -0.41833797,  0.97524614,\n",
       "       -0.40638459,  0.87306909, -0.45889377, -1.96698981, -0.32831424])"
      ]
     },
     "execution_count": 174,
     "metadata": {},
     "output_type": "execute_result"
    }
   ],
   "source": [
    "# Распределение Стьюдента 4\n",
    "n=5.15\n",
    "t_rv4=sts.t(n)\n",
    "t_rv4.rvs(10)"
   ]
  },
  {
   "cell_type": "code",
   "execution_count": 180,
   "metadata": {},
   "outputs": [
    {
     "data": {
      "text/plain": [
       "array([ 1.03357138e+06,  5.84285933e-01, -2.57134587e+03,  6.67592437e+00,\n",
       "        1.01692402e+10,  1.13471811e+00,  4.81367278e+12,  7.39333046e+02,\n",
       "        6.52915531e+05,  8.33597300e+02, -1.36821380e+00, -2.65150369e+04,\n",
       "       -2.57007895e+02, -4.31823836e+01, -8.41048856e+03, -1.41354441e-01,\n",
       "       -1.85971700e-01,  2.04438520e+04,  9.56495791e-01, -9.79272576e-03])"
      ]
     },
     "execution_count": 180,
     "metadata": {},
     "output_type": "execute_result"
    }
   ],
   "source": [
    "# Распределение Стьюдента 5\n",
    "n=0.15\n",
    "t_rv5=sts.t(n)\n",
    "t_rv5.rvs(20)"
   ]
  },
  {
   "cell_type": "code",
   "execution_count": 182,
   "metadata": {
    "scrolled": true
   },
   "outputs": [
    {
     "data": {
      "image/png": "[encoded data removed]",
      "text/plain": [
       "<Figure size 432x288 with 1 Axes>"
      ]
     },
     "metadata": {
      "needs_background": "light"
     },
     "output_type": "display_data"
    }
   ],
   "source": [
    "x1=np.linspace(-4,5,200)\n",
    "x2=np.linspace(-4,5,200)\n",
    "x3=np.linspace(-4,5,200)\n",
    "x4=np.linspace(-4,5,200)\n",
    "x5=np.linspace(-4,5,200)-2\n",
    "\n",
    "cdf1=t_rv1.cdf(x1)\n",
    "cdf2=t_rv2.cdf(x2)\n",
    "pdf3=t_rv3.pdf(x3)\n",
    "pdf4=t_rv4.pdf(x4)\n",
    "cdf5=t_rv4.pdf(x5)+2\n",
    "\n",
    "plt.plot(x1,cdf1)\n",
    "plt.plot(x2,cdf2)\n",
    "plt.plot(x3,pdf3)\n",
    "plt.plot(x4,pdf4)\n",
    "plt.plot(x5,cdf5)\n",
    "\n",
    "plt.ylabel('$F(x)$')\n",
    "plt.xlabel('$x$')\n",
    "\n",
    "plt.show()"
   ]
  },
  {
   "cell_type": "code",
   "execution_count": null,
   "metadata": {},
   "outputs": [],
   "source": []
  }
 ],
 "metadata": {
  "kernelspec": {
   "display_name": "Python 3",
   "language": "python",
   "name": "python3"
  },
  "language_info": {
   "codemirror_mode": {
    "name": "ipython",
    "version": 3
   },
   "file_extension": ".py",
   "mimetype": "text/x-python",
   "name": "python",
   "nbconvert_exporter": "python",
   "pygments_lexer": "ipython3",
   "version": "3.8.5"
  }
 },
 "nbformat": 4,
 "nbformat_minor": 4
}
