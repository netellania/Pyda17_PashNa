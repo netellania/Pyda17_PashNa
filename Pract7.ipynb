{
 "cells": [
  {
   "cell_type": "code",
   "execution_count": 1,
   "metadata": {},
   "outputs": [],
   "source": [
    "# Задание 1\n",
    "# Монетку подбрасывают 15 раз, найдите вероятность выпадения простого числа орлов.\n",
    "# Вероятность выпадения орла 1/2\n",
    "# Простое число может быть в 6 случаях из 15, т.е 6/15\n",
    "# т.о. вероятность выпадения простого числа орлов = 1/2*6/15=1/5\n"
   ]
  },
  {
   "cell_type": "code",
   "execution_count": 8,
   "metadata": {},
   "outputs": [],
   "source": [
    "import numpy as np\n",
    "from scipy.stats import *"
   ]
  },
  {
   "cell_type": "code",
   "execution_count": 6,
   "metadata": {},
   "outputs": [],
   "source": [
    "# Задание 2\n",
    "# Создайте свою дискретную случайную величину с не менее, чем 10 значениями.\n",
    "# Просемплируйте 1000 случайных значений, \n",
    "# постройте гистограмму плотности распределения по выборке,\n",
    "# посчитайте среднее, дисперсию и медиану.\n"
   ]
  },
  {
   "cell_type": "code",
   "execution_count": 9,
   "metadata": {},
   "outputs": [
    {
     "data": {
      "text/plain": [
       "array([0.40858782, 0.57685335, 0.15279833, 0.75422795, 0.79079585,\n",
       "       0.89871015, 0.0429854 , 0.40622937, 0.93168235, 0.271185  ,\n",
       "       0.19901663, 0.40611296, 0.32935651, 0.78223357, 0.88192438,\n",
       "       0.35216366, 0.29639339, 0.69030796, 0.10225942, 0.28868231])"
      ]
     },
     "execution_count": 9,
     "metadata": {},
     "output_type": "execute_result"
    }
   ],
   "source": [
    "# Случайная величина\n",
    "np.random.random(20)"
   ]
  },
  {
   "cell_type": "code",
   "execution_count": 21,
   "metadata": {},
   "outputs": [],
   "source": [
    "# Сэмплирование \n",
    "a=np.random.sample(1000)"
   ]
  },
  {
   "cell_type": "code",
   "execution_count": 22,
   "metadata": {},
   "outputs": [
    {
     "data": {
      "text/plain": [
       "(array([ 88, 103,  92,  88, 112, 111,  99, 100,  89, 118], dtype=int64),\n",
       " array([1.00111083, 1.10099212, 1.2008734 , 1.30075468, 1.40063597,\n",
       "        1.50051725, 1.60039854, 1.70027982, 1.8001611 , 1.90004239,\n",
       "        1.99992367]))"
      ]
     },
     "execution_count": 22,
     "metadata": {},
     "output_type": "execute_result"
    }
   ],
   "source": [
    "#Гистограмма плотности распределения по выборке\n",
    "np.histogram(a +1, bins=10, range=None, normed=None, weights=None, density=None)"
   ]
  },
  {
   "cell_type": "code",
   "execution_count": 23,
   "metadata": {},
   "outputs": [],
   "source": [
    "import matplotlib.pyplot as plt\n",
    "   "
   ]
  },
  {
   "cell_type": "code",
   "execution_count": 24,
   "metadata": {},
   "outputs": [
    {
     "data": {
      "image/png": "[encoded data removed]",
      "text/plain": [
       "<Figure size 432x288 with 1 Axes>"
      ]
     },
     "metadata": {
      "needs_background": "light"
     },
     "output_type": "display_data"
    }
   ],
   "source": [
    "plt.hist(a)\n",
    "plt.show()"
   ]
  },
  {
   "cell_type": "code",
   "execution_count": 33,
   "metadata": {},
   "outputs": [
    {
     "data": {
      "text/plain": [
       "(0.514117790192101, 1000.0)"
      ]
     },
     "execution_count": 33,
     "metadata": {},
     "output_type": "execute_result"
    }
   ],
   "source": [
    "# среднее\n",
    "np.average(a, returned = True)"
   ]
  },
  {
   "cell_type": "code",
   "execution_count": 35,
   "metadata": {},
   "outputs": [
    {
     "data": {
      "text/plain": [
       "0.5193563245627462"
      ]
     },
     "execution_count": 35,
     "metadata": {},
     "output_type": "execute_result"
    }
   ],
   "source": [
    "# медиана\n",
    "np.median(a)"
   ]
  },
  {
   "cell_type": "code",
   "execution_count": 36,
   "metadata": {},
   "outputs": [
    {
     "data": {
      "text/plain": [
       "0.08173162037890423"
      ]
     },
     "execution_count": 36,
     "metadata": {},
     "output_type": "execute_result"
    }
   ],
   "source": [
    "# дисперсия \n",
    "np.var(a)"
   ]
  },
  {
   "cell_type": "code",
   "execution_count": null,
   "metadata": {},
   "outputs": [],
   "source": []
  }
 ],
 "metadata": {
  "kernelspec": {
   "display_name": "Python 3",
   "language": "python",
   "name": "python3"
  },
  "language_info": {
   "codemirror_mode": {
    "name": "ipython",
    "version": 3
   },
   "file_extension": ".py",
   "mimetype": "text/x-python",
   "name": "python",
   "nbconvert_exporter": "python",
   "pygments_lexer": "ipython3",
   "version": "3.8.5"
  }
 },
 "nbformat": 4,
 "nbformat_minor": 4
}
