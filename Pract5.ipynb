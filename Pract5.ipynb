{
 "cells": [
  {
   "cell_type": "code",
   "execution_count": 13,
   "metadata": {},
   "outputs": [],
   "source": [
    "#Посчитайте значение первой и второй производной функции:\n",
    "#В точке x = 1.\n",
    "import numpy as np\n",
    "from scipy.optimize import approx_fprime\n"
   ]
  },
  {
   "cell_type": "code",
   "execution_count": 24,
   "metadata": {},
   "outputs": [],
   "source": [
    "x = np.array([1, 2], dtype=np.float)\n",
    "c1, c2, c3 = (2,7,1)"
   ]
  },
  {
   "cell_type": "code",
   "execution_count": null,
   "metadata": {},
   "outputs": [],
   "source": [
    "# частные производные функции f(x,y)=2x^2y^3 + 1/x + y^2x + 7, \n",
    "#и для этой функции также градиент в точке (1,2)\n",
    "def func(x, c1, c2, c3):\n",
    "    \"Coordinate vector `x` should be an array of size two.\"\n",
    "    return c1 * x[0]**2*x[1]**3 + c3/x[0] + x[1]**2*x[0]**2+c3\n"
   ]
  },
  {
   "cell_type": "code",
   "execution_count": 25,
   "metadata": {},
   "outputs": [
    {
     "name": "stdout",
     "output_type": "stream",
     "text": [
      "[1. 1.]\n"
     ]
    }
   ],
   "source": [
    "# градиент\n",
    "j = np.gradient(x)\n",
    "print(j)"
   ]
  },
  {
   "cell_type": "code",
   "execution_count": 28,
   "metadata": {},
   "outputs": [],
   "source": [
    "def func(x, c1, c2, c3):\n",
    "    \"Coordinate vector `x` should be an array of size two.\"\n",
    "    return c1 * x[0]**2*x[1]**3 + c3/x[0] + x[1]**2*x[0]**2+c3\n"
   ]
  },
  {
   "cell_type": "code",
   "execution_count": 29,
   "metadata": {},
   "outputs": [
    {
     "data": {
      "text/plain": [
       "array([5.00000006, 8.00000012])"
      ]
     },
     "execution_count": 29,
     "metadata": {},
     "output_type": "execute_result"
    }
   ],
   "source": [
    "x = np.ones(2)\n",
    "c1, c2, c3 = (2,7,1)\n",
    "eps = np.sqrt(np.finfo(float).eps)\n",
    "approx_fprime(x, func, [eps, eps], c1, c2, c3)"
   ]
  },
  {
   "cell_type": "code",
   "execution_count": null,
   "metadata": {},
   "outputs": [],
   "source": [
    "#частная производная\n",
    "#Fx=4*x*y**3-1/x**2+2*y*x\n",
    "#Fy=2*x**2*3*y**2+2*y*x**2\n",
    "x = np.array([1, 2], dtype=np.float)\n",
    "c1, c2, c3 = (2, 2, 1)\n"
   ]
  },
  {
   "cell_type": "code",
   "execution_count": 34,
   "metadata": {},
   "outputs": [],
   "source": [
    "# производная по x\n",
    "def func(x, c1, c2, c3):\n",
    "    \"Coordinate vector `x` should be an array of size two.\"\n",
    "    return c1 * x[0]*x[1]**3 - c3/x[0]**2 + c2*x[0]*x[1]**2\n"
   ]
  },
  {
   "cell_type": "code",
   "execution_count": 35,
   "metadata": {},
   "outputs": [
    {
     "data": {
      "text/plain": [
       "array([ 5.99999994, 10.00000012])"
      ]
     },
     "execution_count": 35,
     "metadata": {},
     "output_type": "execute_result"
    }
   ],
   "source": [
    "x = np.ones(2)\n",
    "c1, c2, c3 = (2,2,1)\n",
    "eps = np.sqrt(np.finfo(float).eps)\n",
    "approx_fprime(x, func, [eps, eps], c1, c2, c3)"
   ]
  },
  {
   "cell_type": "code",
   "execution_count": 38,
   "metadata": {},
   "outputs": [],
   "source": [
    "# производная по y\n",
    "def func(x, c1, c2, c3):\n",
    "    \"Coordinate vector `x` should be an array of size two.\"\n",
    "    return c1 * x[0]**2*c2*x[1]**2 + c3*x[0]**2*x[1]"
   ]
  },
  {
   "cell_type": "code",
   "execution_count": 39,
   "metadata": {},
   "outputs": [
    {
     "data": {
      "text/plain": [
       "array([16.00000012, 14.00000012])"
      ]
     },
     "execution_count": 39,
     "metadata": {},
     "output_type": "execute_result"
    }
   ],
   "source": [
    "x = np.ones(2)\n",
    "c1, c2, c3 = (2,3,2)\n",
    "eps = np.sqrt(np.finfo(float).eps)\n",
    "approx_fprime(x, func, [eps, eps], c1, c2, c3)"
   ]
  },
  {
   "cell_type": "code",
   "execution_count": 41,
   "metadata": {},
   "outputs": [],
   "source": [
    "# частные производные функции f(x,y)=x^2y - sin(xy) + cos(x^2) + 6y\n",
    "#Fx=2*x*y-ycos(xy)-sin(x**2)*2*x\n",
    "#Fy=x**2-x*cos(x*y)-sin(x**2)+6\n",
    "x = np.array([1, 2], dtype=np.float)\n",
    "c1, c2 = (2, 2)"
   ]
  },
  {
   "cell_type": "code",
   "execution_count": 42,
   "metadata": {},
   "outputs": [],
   "source": [
    "#производная по x\n",
    "def func(x, c1, c2):\n",
    "    \"Coordinate vector `x` should be an array of size two.\"\n",
    "    return c1 * x[0]*x[1] -x[1]*np.cos(x[0]*x[1])- c2*x[0]* np.sin(x[0]**2)"
   ]
  },
  {
   "cell_type": "code",
   "execution_count": 43,
   "metadata": {},
   "outputs": [
    {
     "data": {
      "text/plain": [
       "array([-1.00268021,  2.30116871])"
      ]
     },
     "execution_count": 43,
     "metadata": {},
     "output_type": "execute_result"
    }
   ],
   "source": [
    "x = np.ones(2)\n",
    "c1, c2 = (2,2)\n",
    "eps = np.sqrt(np.finfo(float).eps)\n",
    "approx_fprime(x, func, [eps, eps], c1, c2)"
   ]
  },
  {
   "cell_type": "code",
   "execution_count": 44,
   "metadata": {},
   "outputs": [],
   "source": [
    "# производная по y\n",
    "def func(x, c1):\n",
    "    \"Coordinate vector `x` should be an array of size two.\"\n",
    "    return x[0]**2 -x[0]*np.cos(x[0]*x[1])- np.sin(x[0]**2)+c1"
   ]
  },
  {
   "cell_type": "code",
   "execution_count": 45,
   "metadata": {},
   "outputs": [
    {
     "data": {
      "text/plain": [
       "array([1.2205641 , 0.84147099])"
      ]
     },
     "execution_count": 45,
     "metadata": {},
     "output_type": "execute_result"
    }
   ],
   "source": [
    "x = np.ones(2)\n",
    "c1 = 2\n",
    "eps = np.sqrt(np.finfo(float).eps)\n",
    "approx_fprime(x, func, [eps, eps], c1)"
   ]
  },
  {
   "cell_type": "code",
   "execution_count": null,
   "metadata": {},
   "outputs": [],
   "source": []
  }
 ],
 "metadata": {
  "kernelspec": {
   "display_name": "Python 3",
   "language": "python",
   "name": "python3"
  },
  "language_info": {
   "codemirror_mode": {
    "name": "ipython",
    "version": 3
   },
   "file_extension": ".py",
   "mimetype": "text/x-python",
   "name": "python",
   "nbconvert_exporter": "python",
   "pygments_lexer": "ipython3",
   "version": "3.8.5"
  }
 },
 "nbformat": 4,
 "nbformat_minor": 4
}
