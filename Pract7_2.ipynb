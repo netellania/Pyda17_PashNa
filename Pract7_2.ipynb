{
 "cells": [
  {
   "cell_type": "code",
   "execution_count": 3,
   "metadata": {},
   "outputs": [],
   "source": [
    "# Задание 1\n",
    "# Монетку подбрасывают 15 раз, найдите вероятность выпадения простого числа орлов.\n",
    "# Вероятность выпадения орла 1/2\n",
    "\n",
    "import numpy as np\n",
    "import seaborn as sb\n",
    "import matplotlib.pyplot as plt\n",
    "\n",
    "from scipy.stats import *\n"
   ]
  },
  {
   "cell_type": "code",
   "execution_count": 57,
   "metadata": {
    "scrolled": true
   },
   "outputs": [
    {
     "name": "stdout",
     "output_type": "stream",
     "text": [
      "0.35\n"
     ]
    }
   ],
   "source": [
    "# Количество экспериментов \n",
    "n=15\n",
    "# вероятность наступления сбытия при броске\n",
    "p=0.5\n",
    "# вероятность противоположного события q=1-p=1-1/2=1/2\n",
    "q=0.5\n",
    "sm=0\n",
    "# простые числа\n",
    "x=[2, 3, 5, 7, 11, 13]\n",
    "\n",
    "for xx in x:\n",
    "    #сочетание\n",
    "    prb = np.math.factorial(n) / (np.math.factorial(xx)*np.math.factorial(n-xx))\n",
    "    # верятность \n",
    "    sm=sm+prb\n",
    "    #print(sm)\n",
    "pp=sm * 1 / 2**15\n",
    "print(round(pp,2))\n"
   ]
  },
  {
   "cell_type": "code",
   "execution_count": 4,
   "metadata": {},
   "outputs": [],
   "source": [
    "# Задание 2\n",
    "# Создайте свою дискретную случайную величину с не менее, чем 10 значениями.\n",
    "# Просемплируйте 1000 случайных значений, \n",
    "# постройте гистограмму плотности распределения по выборке,\n",
    "# посчитайте среднее, дисперсию и медиану.\n"
   ]
  },
  {
   "cell_type": "code",
   "execution_count": 47,
   "metadata": {},
   "outputs": [
    {
     "data": {
      "text/plain": [
       "array([0.78055744, 0.09178768, 0.05072707, 0.84529489, 0.903434  ,\n",
       "       0.96436462, 0.72274399, 0.98683723, 0.53461093, 0.55008692,\n",
       "       0.46848705, 0.61549177, 0.34153445, 0.97202066, 0.08549843,\n",
       "       0.94402748, 0.87086843, 0.36116116, 0.95112114, 0.04056237])"
      ]
     },
     "execution_count": 47,
     "metadata": {},
     "output_type": "execute_result"
    }
   ],
   "source": [
    "# Случайная величина\n",
    "np.random.random(20)"
   ]
  },
  {
   "cell_type": "code",
   "execution_count": 50,
   "metadata": {},
   "outputs": [
    {
     "name": "stdout",
     "output_type": "stream",
     "text": [
      "[4 3 1 3 0 8 4 7 5 5 3 6 6 5 4 5 3 3 4 9 8 2 4 9 6 5 8 0 3 5 3 7 0 6 5 2 1\n",
      " 6 5 8 5 4 5 4 9 6 0 7 2 9 7 1 8 7 2 8 5 1 3 7 1 7 6 3 4 1 6 7 3 0 5 1 2 7\n",
      " 9 8 8 1 9 8 5 5 1 9 0 8 5 6 7 6 0 9 0 1 2 2 0 7 5 7 5 5 1 1 9 8 7 7 5 1 8\n",
      " 2 1 3 2 8 2 0 2 7 7 4 2 7 6 6 9 3 0 4 8 5 1 0 4 7 3 0 8 4 3 9 0 0 4 4 7 0\n",
      " 9 5 1 1 0 2 5 7 0 2 1 8 7 4 0 1 3 3 0 6 5 0 8 5 4 3 9 3 0 3 5 9 9 8 7 9 3\n",
      " 3 0 3 8 6 1 8 0 8 7 6 3 7 3 3 7 7 6 8 9 3 7 5 0 1 7 2 8 4 2 1 6 4 4 4 4 4\n",
      " 4 2 4 4 9 7 8 8 1 9 5 5 6 3 9 8 8 4 7 1 3 8 7 6 6 4 3 7 7 4 0 5 5 0 3 0 9\n",
      " 1 1 4 7 9 2 5 8 4 4 4 1 0 2 8 9 2 9 9 8 3 6 6 1 9 5 2 9 1 4 9 3 3 3 6 1 1\n",
      " 6 6 9 6 8 7 1 6 4 0 9 7 1 8 2 8 6 6 1 3 5 7 3 6 0 4 6 4 7 9 8 4 1 1 0 7 0\n",
      " 2 5 8 4 5 9 0 8 8 8 8 6 8 6 4 7 9 2 3 4 2 0 6 5 7 4 1 6 0 0 2 7 4 6 1 8 3\n",
      " 5 3 0 4 1 6 4 1 9 7 4 6 5 8 0 6 9 7 7 7 7 2 3 1 9 9 1 5 0 3 0 3 7 7 5 3 5\n",
      " 3 1 4 5 7 3 0 5 9 9 5 9 5 7 1 7 7 8 2 7 4 8 8 5 3 4 0 6 6 7 4 9 6 1 1 1 7\n",
      " 3 5 4 5 4 6 6 8 6 2 3 8 3 7 0 8 7 0 7 2 1 4 6 2 9 3 5 0 8 5 7 7 5 0 3 9 5\n",
      " 9 7 4 9 0 5 6 0 9 6 8 4 8 3 3 2 5 0 7 5 5 2 2 7 4 9 1 0 4 8 9 0 2 2 8 2 8\n",
      " 2 0 5 2 0 1 5 2 5 8 9 5 6 8 9 3 2 9 6 4 6 5 1 4 0 9 4 6 4 8 5 5 1 7 2 9 9\n",
      " 0 4 4 3 8 2 5 8 9 3 1 5 7 2 3 8 4 7 3 1 2 2 9 4 4 6 7 0 9 7 0 0 2 3 9 5 8\n",
      " 9 5 5 1 9 7 2 2 8 2 4 4 5 5 8 7 5 7 0 5 3 4 3 4 3 2 6 5 3 5 4 6 2 0 8 7 7\n",
      " 4 9 8 9 2 9 4 8 8 7 1 4 1 6 8 5 8 0 4 8 5 0 5 6 3 5 2 1 0 3 5 6 4 8 9 6 5\n",
      " 5 3 3 8 2 0 9 9 2 6 3 0 9 3 9 0 5 1 1 0 2 5 6 7 0 0 7 5 7 6 3 8 1 4 6 1 1\n",
      " 9 9 8 2 5 7 4 7 0 9 7 3 9 7 4 6 1 9 3 4 3 8 9 9 9 8 5 1 8 1 2 3 9 5 1 1 9\n",
      " 7 5 3 0 8 8 7 8 0 0 0 5 8 6 1 4 2 1 4 1 3 5 2 0 8 6 6 8 1 5 3 0 1 4 1 8 3\n",
      " 7 7 9 6 0 5 3 9 4 8 7 6 7 4 1 5 3 5 5 5 7 8 9 7 1 4 7 2 2 3 4 2 1 9 6 3 1\n",
      " 4 1 7 6 6 2 1 8 6 4 9 7 2 9 9 5 4 9 0 3 3 8 2 8 5 8 1 3 0 4 6 3 6 8 6 1 8\n",
      " 7 7 3 3 1 6 4 3 2 7 0 8 5 5 2 3 4 6 8 8 7 2 9 4 9 3 2 9 0 3 0 1 9 1 4 7 4\n",
      " 3 1 6 6 9 5 9 8 7 0 1 2 8 5 9 1 6 7 4 2 3 9 0 2 1 6 5 1 9 6 5 1 4 8 0 6 3\n",
      " 7 3 5 1 7 9 1 1 1 4 7 5 8 6 4 9 5 0 1 3 4 4 0 0 6 0 3 2 5 8 4 8 3 4 3 1 1\n",
      " 0 4 9 2 3 7 6 5 2 9 4 6 6 4 3 2 3 9 9 1 2 9 3 7 0 9 4 6 4 1 9 4 1 4 2 3 7\n",
      " 9]\n"
     ]
    }
   ],
   "source": [
    "# Сэмплирование \n",
    "a=np.random.randint(0, 10, 1000)\n",
    "print(a)"
   ]
  },
  {
   "cell_type": "code",
   "execution_count": 51,
   "metadata": {},
   "outputs": [
    {
     "data": {
      "text/plain": [
       "(array([ 92, 101,  80, 105, 110, 109,  90, 106, 102, 105], dtype=int64),\n",
       " array([ 1. ,  1.9,  2.8,  3.7,  4.6,  5.5,  6.4,  7.3,  8.2,  9.1, 10. ]))"
      ]
     },
     "execution_count": 51,
     "metadata": {},
     "output_type": "execute_result"
    }
   ],
   "source": [
    "#Гистограмма плотности распределения по выборке\n",
    "np.histogram(a +1, bins=10, range=None, normed=None, weights=None, density=None)"
   ]
  },
  {
   "cell_type": "code",
   "execution_count": 52,
   "metadata": {},
   "outputs": [],
   "source": [
    "import matplotlib.pyplot as plt\n",
    "   "
   ]
  },
  {
   "cell_type": "code",
   "execution_count": 53,
   "metadata": {},
   "outputs": [
    {
     "data": {
      "image/png": "[encoded data removed]",
      "text/plain": [
       "<Figure size 432x288 with 1 Axes>"
      ]
     },
     "metadata": {
      "needs_background": "light"
     },
     "output_type": "display_data"
    }
   ],
   "source": [
    "plt.hist(a)\n",
    "plt.show()"
   ]
  },
  {
   "cell_type": "code",
   "execution_count": 43,
   "metadata": {},
   "outputs": [
    {
     "data": {
      "text/plain": [
       "(4.41, 1000.0)"
      ]
     },
     "execution_count": 43,
     "metadata": {},
     "output_type": "execute_result"
    }
   ],
   "source": [
    "# среднее\n",
    "np.average(a, returned = True)"
   ]
  },
  {
   "cell_type": "code",
   "execution_count": 44,
   "metadata": {},
   "outputs": [
    {
     "data": {
      "text/plain": [
       "4.0"
      ]
     },
     "execution_count": 44,
     "metadata": {},
     "output_type": "execute_result"
    }
   ],
   "source": [
    "# медиана\n",
    "np.median(a)"
   ]
  },
  {
   "cell_type": "code",
   "execution_count": 45,
   "metadata": {},
   "outputs": [
    {
     "data": {
      "text/plain": [
       "8.0799"
      ]
     },
     "execution_count": 45,
     "metadata": {},
     "output_type": "execute_result"
    }
   ],
   "source": [
    "# дисперсия \n",
    "np.var(a)"
   ]
  },
  {
   "cell_type": "code",
   "execution_count": null,
   "metadata": {},
   "outputs": [],
   "source": []
  }
 ],
 "metadata": {
  "kernelspec": {
   "display_name": "Python 3",
   "language": "python",
   "name": "python3"
  },
  "language_info": {
   "codemirror_mode": {
    "name": "ipython",
    "version": 3
   },
   "file_extension": ".py",
   "mimetype": "text/x-python",
   "name": "python",
   "nbconvert_exporter": "python",
   "pygments_lexer": "ipython3",
   "version": "3.8.5"
  }
 },
 "nbformat": 4,
 "nbformat_minor": 4
}
