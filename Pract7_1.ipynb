{
 "cells": [
  {
   "cell_type": "code",
   "execution_count": 139,
   "metadata": {},
   "outputs": [],
   "source": [
    "# Задание 1\n",
    "# Монетку подбрасывают 15 раз, найдите вероятность выпадения простого числа орлов.\n",
    "# Вероятность выпадения орла 1/2\n",
    "\n",
    "import numpy as np\n",
    "import seaborn as sb\n",
    "import matplotlib.pyplot as plt\n",
    "\n",
    "from scipy.stats import *\n"
   ]
  },
  {
   "cell_type": "code",
   "execution_count": 125,
   "metadata": {},
   "outputs": [
    {
     "name": "stdout",
     "output_type": "stream",
     "text": [
      "0.0\n"
     ]
    }
   ],
   "source": [
    "p=0.5\n",
    "sm=0\n",
    "x=[2, 3, 5, 7, 11, 13]\n",
    "for xx in x:\n",
    "    xi=xx/15\n",
    "    prb = bernoulli.pmf(xi, p)\n",
    "    sm=sm+prb\n",
    "print(sm)\n"
   ]
  },
  {
   "cell_type": "code",
   "execution_count": 4,
   "metadata": {},
   "outputs": [],
   "source": [
    "# Задание 2\n",
    "# Создайте свою дискретную случайную величину с не менее, чем 10 значениями.\n",
    "# Просемплируйте 1000 случайных значений, \n",
    "# постройте гистограмму плотности распределения по выборке,\n",
    "# посчитайте среднее, дисперсию и медиану.\n"
   ]
  },
  {
   "cell_type": "code",
   "execution_count": 5,
   "metadata": {},
   "outputs": [
    {
     "data": {
      "text/plain": [
       "array([0.81453737, 0.66664796, 0.25743713, 0.99558739, 0.62036636,\n",
       "       0.24351273, 0.4762849 , 0.890515  , 0.68886085, 0.67057004,\n",
       "       0.56982901, 0.53121855, 0.65297474, 0.00904118, 0.65889589,\n",
       "       0.10556535, 0.26400108, 0.49667728, 0.86917285, 0.62891662])"
      ]
     },
     "execution_count": 5,
     "metadata": {},
     "output_type": "execute_result"
    }
   ],
   "source": [
    "# Случайная величина\n",
    "np.random.random(20)"
   ]
  },
  {
   "cell_type": "code",
   "execution_count": 17,
   "metadata": {},
   "outputs": [
    {
     "data": {
      "text/plain": [
       "array([34, 32,  4, 32, 40, 97, 57, 39, 48, 60, 14, 79, 85, 21, 55, 61, 70,\n",
       "       90, 48, 71, 90, 94, 63, 86, 96, 65, 88, 80, 28, 92, 51, 79, 58, 71,\n",
       "        4, 69, 54, 86, 56, 45, 63, 25, 94, 30, 87, 44, 67, 92,  8, 68, 74,\n",
       "       34, 87, 50, 18, 10, 57, 68, 57, 89, 74, 72, 30,  4, 38, 86, 63, 81,\n",
       "       14, 42,  5, 90, 83, 54,  6, 94, 32, 61, 63, 40, 34, 33, 58, 75, 81,\n",
       "       97, 71, 17, 69, 32,  8, 43, 24, 64, 48, 54, 85, 73, 79, 97, 51, 74,\n",
       "        6, 30,  7, 25, 57, 24, 24, 77, 55, 88, 69, 78, 26, 74, 67,  1, 31,\n",
       "       18, 51, 16,  5, 81, 96, 72, 57, 88, 17, 45, 39, 79, 27, 25, 98,  1,\n",
       "       27, 20, 48, 39, 69,  7, 72, 39, 54, 88, 87, 13, 99, 76, 26, 18,  2,\n",
       "       17, 31, 52, 21,  3, 63, 39, 44, 80, 32, 99, 28, 26, 89, 85, 88, 63,\n",
       "       49, 39,  4, 58, 35, 51, 99, 12, 10, 87,  2, 82, 86, 65, 12, 70, 42,\n",
       "       90, 55, 66, 67, 11, 61,  5,  6, 44, 83, 70, 26, 69, 62, 23,  6, 95,\n",
       "       96,  0, 97, 99, 32, 56,  8, 45, 14, 42, 91, 11, 96, 11, 74, 66, 41,\n",
       "       49, 52, 56, 41, 73, 79, 32, 49,  1, 71, 42, 25, 93, 37, 38, 50, 98,\n",
       "       11, 36, 95, 21, 16, 56, 85, 57, 18, 40, 11, 70, 61, 68, 95, 79, 44,\n",
       "       48, 36, 74, 63, 73, 29,  8, 85, 50, 67, 13, 71,  7, 59,  4, 96, 91,\n",
       "       13, 52, 49, 30, 76, 19, 32, 10, 73, 26, 54, 52, 91,  5, 47, 32, 70,\n",
       "       98, 95, 15, 19,  3, 98, 63, 26, 53, 87, 82, 97, 90, 90, 76, 73, 68,\n",
       "       99, 29, 63, 64, 35, 85,  8, 96, 37, 85, 23, 77, 74, 10, 61, 98,  6,\n",
       "       37, 37, 83, 62, 99, 72, 53, 75, 12, 43,  1, 91, 20, 43, 34, 77, 99,\n",
       "        0, 15,  5, 76, 50, 72, 10, 11, 84, 14, 81, 80, 58, 28, 27, 66, 57,\n",
       "       53, 29, 44, 79, 14, 66, 62, 67, 78, 46, 41, 12, 98, 94, 56, 72, 37,\n",
       "       56, 98, 10, 19, 59, 62, 71, 15,  9, 66, 22, 84, 99, 25, 85, 42, 86,\n",
       "       61, 62, 19, 51, 47, 33, 15, 95, 35, 78, 55, 57, 56, 27,  3, 10, 76,\n",
       "       23, 68, 78, 20, 63, 90, 35, 26, 76, 39, 98, 54, 44, 44, 11, 44, 92,\n",
       "       68, 55, 28, 40, 10, 44, 16, 43, 67, 18, 17, 29, 33, 72, 22, 43, 59,\n",
       "       82, 17, 33, 60, 55,  3, 48, 56,  2, 60, 89,  3, 67, 72, 66, 66, 94,\n",
       "       23, 40, 81, 51, 59, 53, 81,  4, 23, 95, 85, 53, 26,  8, 48, 47, 57,\n",
       "       26, 82, 31, 51,  3, 83, 58, 40, 98, 86, 39, 97, 23, 70, 88, 14, 67,\n",
       "       37, 75, 67, 44, 60, 63, 63, 47, 78, 88, 23, 54, 59, 77, 66, 39, 20,\n",
       "       86, 96, 30, 86, 91, 53, 39, 64, 11, 89, 21,  4,  8, 12, 76, 98, 98,\n",
       "       91, 78, 70, 91, 70, 79, 85, 40, 65, 92, 12, 67, 82, 41, 74,  3, 98,\n",
       "        8, 28,  8, 91,  9, 24, 28,  3, 69, 60, 26, 26, 47, 24, 34, 78,  1,\n",
       "        9, 46, 21, 47, 63, 40,  3, 57, 44, 69, 93, 58, 66, 41, 25, 29, 99,\n",
       "       10, 69, 90,  2, 65, 28, 39, 64, 25,  2, 52, 86, 58, 97, 80, 31, 53,\n",
       "       90, 36, 58,  8, 48, 30, 15, 75, 97, 90, 72, 73, 75, 87, 52, 81, 87,\n",
       "       17, 82,  8, 91, 68, 34, 36, 23, 22, 37, 32, 88, 95, 67, 29, 24, 61,\n",
       "       72, 41, 23,  7, 31, 21, 83, 98,  2,  3, 67, 92, 15, 37, 57, 41, 17,\n",
       "       19, 33, 36,  9, 97, 75, 51, 40, 38, 63, 83, 53, 89, 35, 13, 69, 82,\n",
       "       13, 23, 65, 63, 79, 66, 16, 16, 37, 13, 64, 42, 74, 76,  0, 76, 15,\n",
       "       74, 11, 63, 31, 24, 50, 18, 53, 97, 44,  4, 73, 57, 29, 46, 41, 93,\n",
       "       28,  1, 19, 51, 74, 73, 56,  5, 42, 95, 60, 69, 68, 53, 46, 38, 70,\n",
       "       53, 66, 77,  1, 90, 78, 86, 85, 23, 35, 83, 96,  7, 86, 93, 24, 15,\n",
       "       71, 17, 77, 94,  0, 28, 11, 18, 70, 41,  5, 82, 49,  9, 22, 97, 52,\n",
       "       11, 81, 25, 12, 89, 18, 78, 58, 57, 53, 91, 93, 86, 54,  1, 12, 17,\n",
       "       39, 35, 67, 93, 67,  0, 52, 73, 38, 44, 14, 65, 86, 55, 78, 28, 60,\n",
       "       90, 32, 58, 26, 41, 72, 90, 62, 58, 60, 34, 35, 42, 24, 64, 20, 28,\n",
       "       81, 41, 11, 18, 12, 20, 43, 24, 96, 91, 23,  7,  4,  5, 14, 29,  4,\n",
       "       15, 69, 75, 65, 55, 39, 91, 75, 56, 25, 18, 36, 87,  3, 66, 28, 31,\n",
       "       61, 13, 16,  2, 58, 37, 43, 32, 68, 57, 97, 40, 18, 74, 90, 53, 73,\n",
       "       99,  5, 41, 83, 98, 51, 49, 53, 50, 16, 58, 47, 33, 31, 46,  0, 14,\n",
       "       41, 81, 77, 75, 97, 72, 42, 51, 90, 18, 32, 60, 66, 74, 85, 62, 45,\n",
       "       55, 22, 25, 44, 29, 87, 44, 50, 98, 70, 86, 32, 99, 80, 62, 78, 93,\n",
       "       76, 52, 16, 86, 81, 17, 43, 52, 50, 52, 98, 88, 56,  0, 43, 35, 20,\n",
       "       60, 53, 19, 44, 23, 90, 38, 60, 13, 45,  3, 36, 54, 82, 77, 21, 71,\n",
       "       90, 62, 48, 97, 80, 44,  6, 92, 21, 95, 48, 71, 98, 19, 95, 82, 91,\n",
       "       42, 34, 82, 62, 41, 16, 83, 67, 72,  7,  3, 36, 89, 87,  0, 46, 75,\n",
       "        3, 63, 12, 92, 70, 38, 90, 49,  7, 14, 61, 45, 87, 54, 89, 80, 26,\n",
       "       52, 54, 92, 23, 16, 92, 66, 62, 53, 89, 32, 70, 43, 55])"
      ]
     },
     "execution_count": 17,
     "metadata": {},
     "output_type": "execute_result"
    }
   ],
   "source": [
    "# Сэмплирование \n",
    "np.random.randint(0, 100, 1000)"
   ]
  },
  {
   "cell_type": "code",
   "execution_count": 22,
   "metadata": {},
   "outputs": [
    {
     "data": {
      "text/plain": [
       "(array([ 88, 103,  92,  88, 112, 111,  99, 100,  89, 118], dtype=int64),\n",
       " array([1.00111083, 1.10099212, 1.2008734 , 1.30075468, 1.40063597,\n",
       "        1.50051725, 1.60039854, 1.70027982, 1.8001611 , 1.90004239,\n",
       "        1.99992367]))"
      ]
     },
     "execution_count": 22,
     "metadata": {},
     "output_type": "execute_result"
    }
   ],
   "source": [
    "#Гистограмма плотности распределения по выборке\n",
    "np.histogram(a +1, bins=10, range=None, normed=None, weights=None, density=None)"
   ]
  },
  {
   "cell_type": "code",
   "execution_count": 23,
   "metadata": {},
   "outputs": [],
   "source": [
    "import matplotlib.pyplot as plt\n",
    "   "
   ]
  },
  {
   "cell_type": "code",
   "execution_count": 24,
   "metadata": {},
   "outputs": [
    {
     "data": {
      "image/png": "[encoded data removed]",
      "text/plain": [
       "<Figure size 432x288 with 1 Axes>"
      ]
     },
     "metadata": {
      "needs_background": "light"
     },
     "output_type": "display_data"
    }
   ],
   "source": [
    "plt.hist(a)\n",
    "plt.show()"
   ]
  },
  {
   "cell_type": "code",
   "execution_count": 33,
   "metadata": {},
   "outputs": [
    {
     "data": {
      "text/plain": [
       "(0.514117790192101, 1000.0)"
      ]
     },
     "execution_count": 33,
     "metadata": {},
     "output_type": "execute_result"
    }
   ],
   "source": [
    "# среднее\n",
    "np.average(a, returned = True)"
   ]
  },
  {
   "cell_type": "code",
   "execution_count": 35,
   "metadata": {},
   "outputs": [
    {
     "data": {
      "text/plain": [
       "0.5193563245627462"
      ]
     },
     "execution_count": 35,
     "metadata": {},
     "output_type": "execute_result"
    }
   ],
   "source": [
    "# медиана\n",
    "np.median(a)"
   ]
  },
  {
   "cell_type": "code",
   "execution_count": 36,
   "metadata": {},
   "outputs": [
    {
     "data": {
      "text/plain": [
       "0.08173162037890423"
      ]
     },
     "execution_count": 36,
     "metadata": {},
     "output_type": "execute_result"
    }
   ],
   "source": [
    "# дисперсия \n",
    "np.var(a)"
   ]
  },
  {
   "cell_type": "code",
   "execution_count": null,
   "metadata": {},
   "outputs": [],
   "source": []
  }
 ],
 "metadata": {
  "kernelspec": {
   "display_name": "Python 3",
   "language": "python",
   "name": "python3"
  },
  "language_info": {
   "codemirror_mode": {
    "name": "ipython",
    "version": 3
   },
   "file_extension": ".py",
   "mimetype": "text/x-python",
   "name": "python",
   "nbconvert_exporter": "python",
   "pygments_lexer": "ipython3",
   "version": "3.8.5"
  }
 },
 "nbformat": 4,
 "nbformat_minor": 4
}
