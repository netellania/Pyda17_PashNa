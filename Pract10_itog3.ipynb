{
 "cells": [
  {
   "cell_type": "code",
   "execution_count": 145,
   "metadata": {},
   "outputs": [],
   "source": [
    "# Итоговая работа\n",
    "\n",
    "import matplotlib.pyplot as plt\n",
    "import numpy as np\n",
    "import pylab\n",
    "import sympy as sym\n",
    "import scipy.stats as sts\n",
    "import concurrent.futures\n",
    "import scipy.optimize as spo\n",
    "\n",
    "from scipy.optimize import minimize\n",
    "from scipy.optimize import Bounds\n",
    "from scipy.misc import derivative\n",
    "from sympy import diff\n",
    "from scipy import sparse\n",
    "from sklearn.metrics.pairwise import cosine_similarity\n",
    "from scipy.optimize import basinhopping\n",
    "\n",
    "\n",
    "%matplotlib inline"
   ]
  },
  {
   "cell_type": "code",
   "execution_count": 2,
   "metadata": {},
   "outputs": [],
   "source": [
    "# Задание 1\n",
    "# Дана матрица рейтингов фильмов (строки - пользователи (10 человек),\n",
    "# столбцы - фильмы (15 фильмов))\n",
    "raitings = np.array([[ 4,  4,  9,  4,  1,  6, 10,  7,  9,  6,  9,  2,  8,  6,  6],\n",
    "                     [ 9,  2,  5, 10,  7,  8, 10,  5,  6,  2,  1,  6,  8,  9,  7],\n",
    "                     [ 1,  6,  8,  8,  4,  9,  3,  8, 10,  5,  2,  6,  8,  1,  6],\n",
    "                     [ 6,  1,  9,  7,  7,  9,  2,  3,  5,  1,  6,  6,  3,  2,  7],\n",
    "                     [ 3,  7,  3,  5,  7,  9,  9,  6,  2,  9,  1,  2,  8, 10,  6],\n",
    "                     [ 8,  3,  7,  3,  8,  6,  1,  8,  8,  6,  1,  9,  4, 10,  1],\n",
    "                     [ 9,  8,  4,  8,  8, 10,  6,  1,  1,  2,  9,  5,  2,  7,  2],\n",
    "                     [ 4,  1,  6,  4,  3, 10,  4,  4,  2,  8,  7,  9,  3,  8,  3],\n",
    "                     [ 2,  7,  7,  6, 10,  6,  8,  9,  8,  6, 10,  1,  7, 10,  4],\n",
    "                     [ 5, 10,  8,  8,  9,  7,  2,  9,  9, 10,  8,  8,  8,  6, 10]])\n"
   ]
  },
  {
   "cell_type": "code",
   "execution_count": 3,
   "metadata": {},
   "outputs": [
    {
     "name": "stdout",
     "output_type": "stream",
     "text": [
      "косинусная метрика:\n",
      " [[1.         0.82602919 0.84921529 0.78340116 0.81917632 0.74118548\n",
      "  0.72735828 0.80967522 0.91065982 0.86010776]\n",
      " [0.82602919 1.         0.81234325 0.84635337 0.87138052 0.82713107\n",
      "  0.82629684 0.80026003 0.82526308 0.81968127]\n",
      " [0.84921529 0.81234325 1.         0.84669374 0.78394299 0.79097985\n",
      "  0.67616223 0.76289552 0.82112077 0.91873051]\n",
      " [0.78340116 0.84635337 0.84669374 1.         0.69153409 0.78665792\n",
      "  0.83274211 0.82934667 0.7770666  0.8588687 ]\n",
      " [0.81917632 0.87138052 0.78394299 0.69153409 1.         0.7764434\n",
      "  0.78200468 0.81236869 0.87948477 0.84574789]\n",
      " [0.74118548 0.82713107 0.79097985 0.78665792 0.7764434  1.\n",
      "  0.74011801 0.84451685 0.80622876 0.85514908]\n",
      " [0.72735828 0.82629684 0.67616223 0.83274211 0.78200468 0.74011801\n",
      "  1.         0.82669174 0.81130044 0.79154718]\n",
      " [0.80967522 0.80026003 0.76289552 0.82934667 0.81236869 0.84451685\n",
      "  0.82669174 1.         0.7981276  0.83682229]\n",
      " [0.91065982 0.82526308 0.82112077 0.7770666  0.87948477 0.80622876\n",
      "  0.81130044 0.7981276  1.         0.90093797]\n",
      " [0.86010776 0.81968127 0.91873051 0.8588687  0.84574789 0.85514908\n",
      "  0.79154718 0.83682229 0.90093797 1.        ]]\n",
      "\n"
     ]
    }
   ],
   "source": [
    "# a) Необходимо найти наиболее похожего пользователя по косинусной метрике \n",
    "# для каждого из (ответ: 10 пар вида (x, y), где y - наиболее похожий пользователь на пользователя x).\n",
    "raitings_sparse = sparse.csr_matrix(raitings)\n",
    "sim= cosine_similarity(raitings_sparse)\n",
    "print('косинусная метрика:\\n {}\\n'.format(sim))\n"
   ]
  },
  {
   "cell_type": "code",
   "execution_count": 48,
   "metadata": {},
   "outputs": [
    {
     "name": "stdout",
     "output_type": "stream",
     "text": [
      "[[0.82602919 0.84921529 0.78340116 0.81917632 0.74118548 0.72735828\n",
      "  0.80967522 0.91065982 0.86010776]\n",
      " [0.82602919 0.81234325 0.84635337 0.87138052 0.82713107 0.82629684\n",
      "  0.80026003 0.82526308 0.81968127]\n",
      " [0.84921529 0.81234325 0.84669374 0.78394299 0.79097985 0.67616223\n",
      "  0.76289552 0.82112077 0.91873051]\n",
      " [0.78340116 0.84635337 0.84669374 0.69153409 0.78665792 0.83274211\n",
      "  0.82934667 0.7770666  0.8588687 ]\n",
      " [0.81917632 0.87138052 0.78394299 0.69153409 0.7764434  0.78200468\n",
      "  0.81236869 0.87948477 0.84574789]\n",
      " [0.74118548 0.82713107 0.79097985 0.78665792 0.7764434  0.74011801\n",
      "  0.84451685 0.80622876 0.85514908]\n",
      " [0.72735828 0.82629684 0.67616223 0.83274211 0.78200468 0.74011801\n",
      "  0.82669174 0.81130044 0.79154718]\n",
      " [0.80967522 0.80026003 0.76289552 0.82934667 0.81236869 0.84451685\n",
      "  0.82669174 0.7981276  0.83682229]\n",
      " [0.91065982 0.82526308 0.82112077 0.7770666  0.87948477 0.80622876\n",
      "  0.81130044 0.7981276  0.90093797]\n",
      " [0.86010776 0.81968127 0.91873051 0.8588687  0.84574789 0.85514908\n",
      "  0.79154718 0.83682229 0.90093797]]\n"
     ]
    }
   ],
   "source": [
    "#удаляем элементы главной диагонали\n",
    "x=sim\n",
    "def remove_diag(x):\n",
    "    x_no_diag = np.ndarray.flatten(x)\n",
    "    x_no_diag = np.delete(x_no_diag, range(0, len(x_no_diag), len(x) + 1), 0)\n",
    "    x_no_diag = x_no_diag.reshape(len(x), len(x) - 1)\n",
    "    return x_no_diag\n",
    "simm=remove_diag(x) \n",
    "print(simm)       \n",
    "        "
   ]
  },
  {
   "cell_type": "code",
   "execution_count": 123,
   "metadata": {},
   "outputs": [
    {
     "name": "stdout",
     "output_type": "stream",
     "text": [
      "[0, 8]\n",
      "[1, 4]\n",
      "[2, 9]\n",
      "[3, 9]\n",
      "[4, 8]\n",
      "[5, 9]\n",
      "[6, 4]\n",
      "[7, 6]\n",
      "[8, 1]\n",
      "[9, 3]\n"
     ]
    }
   ],
   "source": [
    "#Поиск максимума, убеждаемся, что найден верно\n",
    "maxx=[]\n",
    "max_i = 0\n",
    "max_j = 0\n",
    "for i in range(len(simm)): \n",
    "    for j in range(len(simm[i])): \n",
    "        max_i=np.max(simm[i])\n",
    "        if max_i==simm[i,j] and j!=i:\n",
    "            print([i,j+1]) \n",
    "    #print(max_i)\n",
    " \n"
   ]
  },
  {
   "cell_type": "code",
   "execution_count": 17,
   "metadata": {},
   "outputs": [],
   "source": [
    "# b) Предположим, вы захотели сжать признаковые описания пользователя\n",
    "# с 15 фильмов, до, скажем, 5-ти признаков, как вы это сделаете?\n"
   ]
  },
  {
   "cell_type": "code",
   "execution_count": null,
   "metadata": {},
   "outputs": [],
   "source": [
    "U, s, V = np.linalg.svd(raitings)\n",
    "n_component = 5\n",
    "S = np.diag(s)[:, :n_component]\n",
    "V = V[:n_component, :5]\n",
    "A = U.dot(S.dot(V))\n",
    "print(A)"
   ]
  },
  {
   "cell_type": "code",
   "execution_count": 8,
   "metadata": {},
   "outputs": [
    {
     "data": {
      "text/latex": [
       "$\\displaystyle 2 \\left(- 2 \\sin{\\left(2 x + 3 \\right)} + \\cos{\\left(x \\right)}\\right) \\left(\\tan^{2}{\\left(\\sin{\\left(x \\right)} + \\cos{\\left(2 x + 3 \\right)} \\right)} + 1\\right) \\tan{\\left(\\sin{\\left(x \\right)} + \\cos{\\left(2 x + 3 \\right)} \\right)}$"
      ],
      "text/plain": [
       "2*(-2*sin(2*x + 3) + cos(x))*(tan(sin(x) + cos(2*x + 3))**2 + 1)*tan(sin(x) + cos(2*x + 3))"
      ]
     },
     "execution_count": 8,
     "metadata": {},
     "output_type": "execute_result"
    }
   ],
   "source": [
    "# Задание 2¶\n",
    "# Вычислите производную $tg^2(sin(x) + cos(2x+3))$ \n",
    "# в точке $x_0=1$ (на python и на бумаге)\n",
    "x =sym.Symbol('x')\n",
    "f = sym.tan(sym.sin(x) + sym.cos(2*x+3))**2\n",
    "derivative_f = f.diff(x)\n",
    "derivative_f\n",
    "\n"
   ]
  },
  {
   "cell_type": "code",
   "execution_count": 124,
   "metadata": {},
   "outputs": [
    {
     "name": "stdout",
     "output_type": "stream",
     "text": [
      "55.385917635337854\n"
     ]
    }
   ],
   "source": [
    "# значение производной функции в т.x=1\n",
    "x=1\n",
    "f1 = 2*(-2*np.sin(2*x+3) + np.cos(x))*(np.tan(np.sin(x)+np.cos(2*x+3))**2+1)*np.tan(np.sin(x) + np.cos(2*x+3))\n",
    "print(f1)"
   ]
  },
  {
   "cell_type": "code",
   "execution_count": 137,
   "metadata": {},
   "outputs": [],
   "source": [
    "# Задание 3\n",
    "# Дана функция с неизвестными параметрами a и b,\n",
    "# вам также известны значения функции fx в точках x. \n",
    "# Найдите оптимальные параметры a, b, минимизирующие абсолютную ошибку error.\n",
    "def f(x, a, b):\n",
    "    return np.e**a * np.sin(b*x) + x"
   ]
  },
  {
   "cell_type": "code",
   "execution_count": 138,
   "metadata": {},
   "outputs": [],
   "source": [
    "x = np.array([0.        , 0.26315789, 0.52631579, 0.78947368, 1.05263158,\n",
    "              1.31578947, 1.57894737, 1.84210526, 2.10526316, 2.36842105,\n",
    "              2.63157895, 2.89473684, 3.15789474, 3.42105263, 3.68421053,\n",
    "              3.94736842, 4.21052632, 4.47368421, 4.73684211, 5.        ])"
   ]
  },
  {
   "cell_type": "code",
   "execution_count": 139,
   "metadata": {},
   "outputs": [],
   "source": [
    "fx = np.array([  0.        , -12.01819092, -18.90968634, -17.68786571,\n",
    "                -8.7529108 ,   4.27524517,  16.06801336,  21.81250213,\n",
    "                19.22059845,   9.48411207,  -3.22273056, -13.48576488,\n",
    "               -16.91096359, -11.95866834,  -0.58630088,  12.56873816,\n",
    "                22.12489421,  24.20292139,  18.04522521,   6.33211092])"
   ]
  },
  {
   "cell_type": "code",
   "execution_count": 162,
   "metadata": {},
   "outputs": [
    {
     "data": {
      "image/png": "[encoded data removed]",
      "text/plain": [
       "<Figure size 432x288 with 1 Axes>"
      ]
     },
     "metadata": {
      "needs_background": "light"
     },
     "output_type": "display_data"
    }
   ],
   "source": [
    "y = np.arange(10)\n",
    "x_min = np.linspace(-1, 1, 1)\n",
    "x_max = np.linspace(10, 1, 10)\n",
    "fig, ax = plt.subplots()\n",
    "plt.plot(x, fx)\n",
    "#ax.hlines(y, x_min, x_max)\n",
    "\n",
    "plt.show()"
   ]
  },
  {
   "cell_type": "code",
   "execution_count": 167,
   "metadata": {},
   "outputs": [
    {
     "data": {
      "text/plain": [
       "     fun: 0.04237090352135198\n",
       "   maxcv: 0.0\n",
       " message: 'Optimization terminated successfully.'\n",
       "    nfev: 45\n",
       "  status: 1\n",
       " success: True\n",
       "       x: array([ 3.00005346, -2.49994226])"
      ]
     },
     "execution_count": 167,
     "metadata": {},
     "output_type": "execute_result"
    }
   ],
   "source": [
    "bounds=Bounds([-10, 10], [-10, 10]) \n",
    "res1=minimize(error, params, method='COBYLA',  bounds=bounds)\n",
    "res1"
   ]
  },
  {
   "cell_type": "code",
   "execution_count": 168,
   "metadata": {},
   "outputs": [
    {
     "name": "stdout",
     "output_type": "stream",
     "text": [
      "[ 3.00005346 -2.49994226]\n"
     ]
    }
   ],
   "source": [
    "print(res1.x)"
   ]
  },
  {
   "cell_type": "code",
   "execution_count": 174,
   "metadata": {},
   "outputs": [
    {
     "data": {
      "image/png": "[encoded data removed]",
      "text/plain": [
       "<Figure size 432x288 with 1 Axes>"
      ]
     },
     "metadata": {
      "needs_background": "light"
     },
     "output_type": "display_data"
    }
   ],
   "source": [
    "plt.plot(x, fx)\n",
    "plt.plot(res1.x)\n",
    "plt.show()\n"
   ]
  },
  {
   "cell_type": "code",
   "execution_count": 159,
   "metadata": {},
   "outputs": [
    {
     "data": {
      "text/plain": [
       "array([  0.        , -12.28134881, -19.43600213, -18.47733939,\n",
       "        -9.80554238,   2.9594557 ,  14.48906599,  19.97039687,\n",
       "        17.11533529,   7.11569102,  -5.85430951, -16.38050172,\n",
       "       -20.06885833, -15.37972097,  -4.27051141,   8.62136974,\n",
       "        17.91436789,  19.72923718,  13.3083831 ,   1.33211092])"
      ]
     },
     "execution_count": 159,
     "metadata": {},
     "output_type": "execute_result"
    }
   ],
   "source": [
    "#вспомогаетльная проверка\n",
    "A=fx-(np.e**a * np.sin(b*x) +x)\n",
    "A"
   ]
  },
  {
   "cell_type": "code",
   "execution_count": 276,
   "metadata": {},
   "outputs": [],
   "source": [
    "# Задание 4\n",
    "# Создайте собственную дискретную случайную величину с 20 значениями. \n",
    "# Сгенерируйте 1000 выборок размера 50. \n",
    "# Посчитайте среднее для каждой выборки. \n",
    "# Постройте гистограмму распределения средних.\n"
   ]
  },
  {
   "cell_type": "code",
   "execution_count": 19,
   "metadata": {},
   "outputs": [
    {
     "data": {
      "text/plain": [
       "array([1.55950194, 2.11850425, 0.58471176, 0.78044934, 2.59165124,\n",
       "       1.97633819, 1.39016794, 2.27896049, 2.26014587, 1.99321258,\n",
       "       1.9165274 , 1.42625068, 1.44530065, 2.47823231, 1.92934326,\n",
       "       1.70946477, 1.46051252, 1.95244052, 2.20507478, 2.30692708])"
      ]
     },
     "execution_count": 19,
     "metadata": {},
     "output_type": "execute_result"
    }
   ],
   "source": [
    "mu=2.0\n",
    "sigma=0.5\n",
    "# зададим нормально распределенную случайную величину\n",
    "rv=sts.norm(loc=mu, scale=sigma)\n",
    "# генерация 20 значений\n",
    "sample=rv.rvs(size=20)\n",
    "sample"
   ]
  },
  {
   "cell_type": "code",
   "execution_count": 20,
   "metadata": {},
   "outputs": [],
   "source": [
    "# размер\n",
    "n1 = 50\n",
    "# количество выборок\n",
    "samples_count = 1000\n",
    "# Массивы для сохранения средних по выборкам\n",
    "a1 = np.array([])\n",
    "\n",
    "for number in range(samples_count):\n",
    "    # На каждом цикле генерируются выборки разных размеров\n",
    "    sample1 = rv.rvs(size=n1)\n",
    "    # Считаем среднее по каждой выборке и добавляем в массив средних\n",
    "    a1 = np.append(a1, sample1.mean())\n"
   ]
  },
  {
   "cell_type": "code",
   "execution_count": 28,
   "metadata": {},
   "outputs": [
    {
     "data": {
      "image/png": "[encoded data removed]",
      "text/plain": [
       "<Figure size 432x288 with 1 Axes>"
      ]
     },
     "metadata": {
      "needs_background": "light"
     },
     "output_type": "display_data"
    }
   ],
   "source": [
    "x = np.linspace(-10,10,50)\n",
    "pdf = rv.pdf(x)\n",
    "plt.hist(sample, density=True, bins=10, label='sample histogram')\n",
    "plt.plot(x, pdf, label='theoretical pdf', alpha=0.5)\n",
    "plt.legend()\n",
    "plt.ylabel('fraction of samples, $f(x)$')\n",
    "plt.xlabel('$x$')\n",
    "plt.show()"
   ]
  },
  {
   "cell_type": "code",
   "execution_count": 37,
   "metadata": {},
   "outputs": [
    {
     "name": "stdout",
     "output_type": "stream",
     "text": [
      "[[1 4]\n",
      " [1 1]]\n"
     ]
    }
   ],
   "source": [
    "# Задание 5\n",
    "# Cобственные значения и собственные вектора матрицы\n",
    "m = np.array([[1, 4], [1, 1]])\n",
    "w, v = np.linalg.eig(m)\n",
    "print(m)\n"
   ]
  },
  {
   "cell_type": "code",
   "execution_count": 39,
   "metadata": {},
   "outputs": [
    {
     "name": "stdout",
     "output_type": "stream",
     "text": [
      "Собственное значение 3.0000000000000004\n",
      "соответствующий ему собственный вектор [0.89442719 0.4472136 ]\n",
      "Собственное значение -0.9999999999999996\n",
      "соответствующий ему собственный вектор [-0.89442719  0.4472136 ]\n"
     ]
    }
   ],
   "source": [
    "for i in range(len(w)):\n",
    "    print(\"Собственное значение \" + str(w[i]))\n",
    "    print(\"соответствующий ему собственный вектор \" + str(v[:,i]))"
   ]
  },
  {
   "cell_type": "code",
   "execution_count": null,
   "metadata": {},
   "outputs": [],
   "source": []
  }
 ],
 "metadata": {
  "kernelspec": {
   "display_name": "Python 3",
   "language": "python",
   "name": "python3"
  },
  "language_info": {
   "codemirror_mode": {
    "name": "ipython",
    "version": 3
   },
   "file_extension": ".py",
   "mimetype": "text/x-python",
   "name": "python",
   "nbconvert_exporter": "python",
   "pygments_lexer": "ipython3",
   "version": "3.8.5"
  }
 },
 "nbformat": 4,
 "nbformat_minor": 4
}
