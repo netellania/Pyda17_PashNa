{
 "cells": [
  {
   "cell_type": "code",
   "execution_count": 4,
   "metadata": {},
   "outputs": [],
   "source": [
    "import numpy as np"
   ]
  },
  {
   "cell_type": "code",
   "execution_count": 5,
   "metadata": {},
   "outputs": [
    {
     "data": {
      "text/plain": [
       "array([[1, 2, 3],\n",
       "       [4, 5, 6],\n",
       "       [7, 8, 9]])"
      ]
     },
     "execution_count": 5,
     "metadata": {},
     "output_type": "execute_result"
    }
   ],
   "source": [
    "#Задача 1\n",
    "#Создайте матрицу 3 на 3, заполненную числами от 1 до 9\n",
    "#Прибавьте к ней матрицу с единицами на диагонале\n",
    "#Умножьте полученную матрицу на вектор (1, 2, 3)\n",
    "#Посчитайте обратную матрицу к полученной матрице\n",
    "A = np.array([[1, 2, 3], [4, 5, 6], [7, 8, 9]])\n",
    "A"
   ]
  },
  {
   "cell_type": "code",
   "execution_count": 8,
   "metadata": {},
   "outputs": [
    {
     "data": {
      "text/plain": [
       "array([[1., 0., 0.],\n",
       "       [0., 1., 0.],\n",
       "       [0., 0., 1.]])"
      ]
     },
     "execution_count": 8,
     "metadata": {},
     "output_type": "execute_result"
    }
   ],
   "source": [
    "# создаем единичную матрицу\n",
    "B=np.eye(3)\n",
    "B"
   ]
  },
  {
   "cell_type": "code",
   "execution_count": 12,
   "metadata": {},
   "outputs": [
    {
     "data": {
      "text/plain": [
       "array([[ 2.,  2.,  3.],\n",
       "       [ 4.,  6.,  6.],\n",
       "       [ 7.,  8., 10.]])"
      ]
     },
     "execution_count": 12,
     "metadata": {},
     "output_type": "execute_result"
    }
   ],
   "source": [
    "#Складываем А и В\n",
    "C=A+B\n",
    "C"
   ]
  },
  {
   "cell_type": "code",
   "execution_count": 10,
   "metadata": {},
   "outputs": [],
   "source": [
    "#Умножьте полученную матрицу на вектор (1, 2, 3)\n",
    "# Вектор\n",
    "x=np.array([1,2,3])\n"
   ]
  },
  {
   "cell_type": "code",
   "execution_count": 19,
   "metadata": {},
   "outputs": [
    {
     "data": {
      "text/plain": [
       "array([15., 34., 53.])"
      ]
     },
     "execution_count": 19,
     "metadata": {},
     "output_type": "execute_result"
    }
   ],
   "source": [
    "#Умножаем C на вектор x\n",
    "D=C@x\n",
    "D"
   ]
  },
  {
   "cell_type": "code",
   "execution_count": 26,
   "metadata": {},
   "outputs": [
    {
     "data": {
      "text/plain": [
       "array([[-6. , -2. ,  3. ],\n",
       "       [-1. ,  0.5,  0. ],\n",
       "       [ 5. ,  1. , -2. ]])"
      ]
     },
     "execution_count": 26,
     "metadata": {},
     "output_type": "execute_result"
    }
   ],
   "source": [
    "#Вычисление обратной матрицы к матрице С\n",
    "#Получить обратную матрицу от матрицы D, после умножения на вектор не получится, \n",
    "#так как полученная матрица не является квадратной  \n",
    "Rev= np.linalg.inv(C)\n",
    "Rev"
   ]
  },
  {
   "cell_type": "code",
   "execution_count": 27,
   "metadata": {},
   "outputs": [],
   "source": [
    "#Дан объект в 2d пространстве:\n",
    "import matplotlib.pyplot as plt\n"
   ]
  },
  {
   "cell_type": "code",
   "execution_count": 93,
   "metadata": {},
   "outputs": [
    {
     "data": {
      "text/plain": [
       "(-200.0, 200.0)"
      ]
     },
     "execution_count": 93,
     "metadata": {},
     "output_type": "execute_result"
    },
    {
     "data": {
      "image/png": "[encoded data removed]",
      "text/plain": [
       "<Figure size 432x288 with 1 Axes>"
      ]
     },
     "metadata": {
      "needs_background": "light"
     },
     "output_type": "display_data"
    }
   ],
   "source": [
    "\n",
    "A = [\n",
    "[-100, -100, 1],\n",
    "[-100, 100, 1],\n",
    "[100, 100, 1],\n",
    "[0, 0, 1],\n",
    "[100, -100, 1],\n",
    "[-100, -100, 1]\n",
    "]\n",
    "\n",
    "A = np.array(A)\n",
    "x = A[:,0]\n",
    "y = A[:,1]\n",
    "\n",
    "plt.plot(x, y)\n",
    "plt.ylim([-200, 200])\n",
    "plt.xlim([-200, 200])"
   ]
  },
  {
   "cell_type": "code",
   "execution_count": 94,
   "metadata": {},
   "outputs": [
    {
     "data": {
      "text/plain": [
       "(-200.0, 200.0)"
      ]
     },
     "execution_count": 94,
     "metadata": {},
     "output_type": "execute_result"
    },
    {
     "data": {
      "image/png": "[encoded data removed]",
      "text/plain": [
       "<Figure size 432x288 with 1 Axes>"
      ]
     },
     "metadata": {
      "needs_background": "light"
     },
     "output_type": "display_data"
    }
   ],
   "source": [
    "# При помощи матричных операций выполните:\n",
    "#Уменьшить объект в два раза\n",
    "#Повернуть на 130 градусов\n",
    "#Отразить объект относительно прямой y=x\n",
    "#Выполнить смещение объекта и масштабирование (применить 2 матрицы трансформаций). \n",
    "#Смещение на (200, 300) и масштабирование на (0.5, 1.2)\n",
    "\n",
    "B=A/2\n",
    "\n",
    "B = np.array(B)\n",
    "x = B[:,0]\n",
    "y = B[:,1]\n",
    "\n",
    "\n",
    "plt.plot(x, y)\n",
    "plt.ylim([-200, 200])\n",
    "plt.xlim([-200, 200])\n"
   ]
  },
  {
   "cell_type": "code",
   "execution_count": 43,
   "metadata": {},
   "outputs": [
    {
     "data": {
      "text/plain": [
       "(-200.0, 200.0)"
      ]
     },
     "execution_count": 43,
     "metadata": {},
     "output_type": "execute_result"
    },
    {
     "data": {
      "image/png": "[encoded data removed]",
      "text/plain": [
       "<Figure size 432x288 with 1 Axes>"
      ]
     },
     "metadata": {
      "needs_background": "light"
     },
     "output_type": "display_data"
    }
   ],
   "source": [
    "#Отразить объект относительно прямой y=x\n",
    "B= np.array([[0, 1, 0], [1, 0, 0], [0, 0, 1]])\n",
    "C=A@B\n",
    "\n",
    "C = np.array(C)\n",
    "x = C[:,0]\n",
    "y = C[:,1]\n",
    "\n",
    "\n",
    "plt.plot(x, y)\n",
    "plt.ylim([-200, 200])\n",
    "plt.xlim([-200, 200])"
   ]
  },
  {
   "cell_type": "code",
   "execution_count": null,
   "metadata": {},
   "outputs": [],
   "source": [
    "#Повернуть на 130 градусов\n"
   ]
  },
  {
   "cell_type": "code",
   "execution_count": 68,
   "metadata": {},
   "outputs": [
    {
     "data": {
      "text/plain": [
       "(-400.0, 500.0)"
      ]
     },
     "execution_count": 68,
     "metadata": {},
     "output_type": "execute_result"
    },
    {
     "data": {
      "image/png": "[encoded data removed]",
      "text/plain": [
       "<Figure size 432x288 with 1 Axes>"
      ]
     },
     "metadata": {
      "needs_background": "light"
     },
     "output_type": "display_data"
    }
   ],
   "source": [
    "#Выполнить смещение объекта и масштабирование (применить 2 матрицы трансформаций). \n",
    "#Смещение на (200, 300) и масштабирование на (0.5, 1.2)\n",
    "#Вполняем смещение \n",
    "B= [\n",
    "[200, 300, 0],\n",
    "[200, 300, 0],\n",
    "[200, 300, 0],\n",
    "[200, 300, 0],\n",
    "[200, 300, 0],\n",
    "[200, 300, 0]\n",
    "]\n",
    "\n",
    "C=A+B\n",
    "C = np.array(C)\n",
    "x = C[:,0]\n",
    "y = C[:,1]\n",
    "\n",
    "#x = A[:,0]+200\n",
    "#y = A[:,1]+300\n",
    "\n",
    "plt.plot(x, y)\n",
    "plt.ylim([-400, 500])\n",
    "plt.xlim([-400, 500])"
   ]
  },
  {
   "cell_type": "code",
   "execution_count": 69,
   "metadata": {},
   "outputs": [
    {
     "data": {
      "text/plain": [
       "(-400.0, 500.0)"
      ]
     },
     "execution_count": 69,
     "metadata": {},
     "output_type": "execute_result"
    },
    {
     "data": {
      "image/png": "[encoded data removed]",
      "text/plain": [
       "<Figure size 432x288 with 1 Axes>"
      ]
     },
     "metadata": {
      "needs_background": "light"
     },
     "output_type": "display_data"
    }
   ],
   "source": [
    " # Выполняем масштабирование на (0.5, 1.2)\n",
    "\n",
    "A = np.array(A)\n",
    "x = A[:,0]/0.5\n",
    "y = A[:,1]/1.2\n",
    "\n",
    "plt.plot(x, y)\n",
    "plt.ylim([-400, 500])\n",
    "plt.xlim([-400, 500])"
   ]
  },
  {
   "cell_type": "code",
   "execution_count": 111,
   "metadata": {},
   "outputs": [],
   "source": [
    "#Повернуть на 130 градусов\n"
   ]
  },
  {
   "cell_type": "code",
   "execution_count": 101,
   "metadata": {},
   "outputs": [
    {
     "data": {
      "text/plain": [
       "0.766044443118978"
      ]
     },
     "execution_count": 101,
     "metadata": {},
     "output_type": "execute_result"
    }
   ],
   "source": [
    "sin130=np.sin(130 * np.pi / 180)\n",
    "sin130\n"
   ]
  },
  {
   "cell_type": "code",
   "execution_count": 102,
   "metadata": {},
   "outputs": [
    {
     "data": {
      "text/plain": [
       "-0.6427876096865394"
      ]
     },
     "execution_count": 102,
     "metadata": {},
     "output_type": "execute_result"
    }
   ],
   "source": [
    "cos130=np.cos(130 * np.pi / 180)\n",
    "cos130"
   ]
  },
  {
   "cell_type": "code",
   "execution_count": 120,
   "metadata": {},
   "outputs": [
    {
     "data": {
      "text/plain": [
       "[[-0.6427876096865394, 0, 0.766044443118978],\n",
       " [0, 1, 0],\n",
       " [-0.766044443118978, 0, -0.6427876096865394]]"
      ]
     },
     "execution_count": 120,
     "metadata": {},
     "output_type": "execute_result"
    }
   ],
   "source": [
    "# Матрица поворота поосу Y\n",
    "B= [[cos130,0,sin130],\n",
    "    [0,1, 0],\n",
    "    [-sin130,0 , cos130]\n",
    "]\n",
    "B"
   ]
  },
  {
   "cell_type": "code",
   "execution_count": 121,
   "metadata": {},
   "outputs": [
    {
     "data": {
      "text/plain": [
       "array([[  63.51271653, -100.        ,  -77.24723192],\n",
       "       [  63.51271653,  100.        ,  -77.24723192],\n",
       "       [ -65.04480541,  100.        ,   75.9616567 ],\n",
       "       [  -0.76604444,    0.        ,   -0.64278761],\n",
       "       [ -65.04480541, -100.        ,   75.9616567 ],\n",
       "       [  63.51271653, -100.        ,  -77.24723192]])"
      ]
     },
     "execution_count": 121,
     "metadata": {},
     "output_type": "execute_result"
    }
   ],
   "source": [
    "C=A@B\n",
    "C"
   ]
  },
  {
   "cell_type": "code",
   "execution_count": 123,
   "metadata": {},
   "outputs": [
    {
     "data": {
      "text/plain": [
       "(-200.0, 200.0)"
      ]
     },
     "execution_count": 123,
     "metadata": {},
     "output_type": "execute_result"
    },
    {
     "data": {
      "image/png": "[encoded data removed]",
      "text/plain": [
       "<Figure size 432x288 with 1 Axes>"
      ]
     },
     "metadata": {
      "needs_background": "light"
     },
     "output_type": "display_data"
    }
   ],
   "source": [
    "C = np.array(C)\n",
    "x = C[:,0]\n",
    "y = C[:,1]\n",
    "\n",
    "\n",
    "plt.plot(x, y)\n",
    "plt.ylim([-200, 200])\n",
    "plt.xlim([-200, 200])"
   ]
  },
  {
   "cell_type": "code",
   "execution_count": 182,
   "metadata": {},
   "outputs": [
    {
     "data": {
      "text/plain": [
       "[[1, -0.6427876096865394, -0.766044443118978],\n",
       " [0, 1, 0],\n",
       " [0, 0.766044443118978, -0.6427876096865394]]"
      ]
     },
     "execution_count": 182,
     "metadata": {},
     "output_type": "execute_result"
    }
   ],
   "source": [
    "# Второй варант матрицы поворота\n",
    "B= [[1, cos130, -sin130],\n",
    "    [0, 1, 0],\n",
    "    [0, sin130, cos130]\n",
    "]\n",
    "B"
   ]
  },
  {
   "cell_type": "code",
   "execution_count": 183,
   "metadata": {},
   "outputs": [
    {
     "data": {
      "text/plain": [
       "array([[-100.        ,  -34.95519459,   75.9616567 ],\n",
       "       [-100.        ,  165.04480541,   75.9616567 ],\n",
       "       [ 100.        ,   36.48728347,  -77.24723192],\n",
       "       [   0.        ,    0.76604444,   -0.64278761],\n",
       "       [ 100.        , -163.51271653,  -77.24723192],\n",
       "       [-100.        ,  -34.95519459,   75.9616567 ]])"
      ]
     },
     "execution_count": 183,
     "metadata": {},
     "output_type": "execute_result"
    }
   ],
   "source": [
    "C=A@B\n",
    "C"
   ]
  },
  {
   "cell_type": "code",
   "execution_count": 184,
   "metadata": {},
   "outputs": [
    {
     "data": {
      "text/plain": [
       "(-200.0, 200.0)"
      ]
     },
     "execution_count": 184,
     "metadata": {},
     "output_type": "execute_result"
    },
    {
     "data": {
      "image/png": "[encoded data removed]",
      "text/plain": [
       "<Figure size 432x288 with 1 Axes>"
      ]
     },
     "metadata": {
      "needs_background": "light"
     },
     "output_type": "display_data"
    }
   ],
   "source": [
    "C = np.array(C)\n",
    "x = C[:,0]\n",
    "y = C[:,1]\n",
    "\n",
    "\n",
    "plt.plot(x, y)\n",
    "plt.ylim([-200, 200])\n",
    "plt.xlim([-200, 200])"
   ]
  },
  {
   "cell_type": "code",
   "execution_count": null,
   "metadata": {},
   "outputs": [],
   "source": []
  }
 ],
 "metadata": {
  "kernelspec": {
   "display_name": "Python 3",
   "language": "python",
   "name": "python3"
  },
  "language_info": {
   "codemirror_mode": {
    "name": "ipython",
    "version": 3
   },
   "file_extension": ".py",
   "mimetype": "text/x-python",
   "name": "python",
   "nbconvert_exporter": "python",
   "pygments_lexer": "ipython3",
   "version": "3.8.5"
  }
 },
 "nbformat": 4,
 "nbformat_minor": 4
}
